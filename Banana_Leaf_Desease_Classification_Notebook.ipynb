{
  "nbformat": 4,
  "nbformat_minor": 0,
  "metadata": {
    "colab": {
      "provenance": [],
      "collapsed_sections": [
        "1fIaWDkTn7ea"
      ],
      "include_colab_link": true
    },
    "kernelspec": {
      "name": "python3",
      "display_name": "Python 3"
    },
    "language_info": {
      "name": "python"
    }
  },
  "cells": [
    {
      "cell_type": "markdown",
      "metadata": {
        "id": "view-in-github",
        "colab_type": "text"
      },
      "source": [
        "<a href=\"https://colab.research.google.com/github/zeerafle/banana-leaf-desease-classification/blob/main/Banana_Leaf_Desease_Classification_Notebook.ipynb\" target=\"_parent\"><img src=\"https://colab.research.google.com/assets/colab-badge.svg\" alt=\"Open In Colab\"/></a>"
      ]
    },
    {
      "cell_type": "markdown",
      "source": [
        "# Feature Extraction"
      ],
      "metadata": {
        "id": "mbBI_JnEQtnp"
      }
    },
    {
      "cell_type": "markdown",
      "source": [
        "## Setup Environment"
      ],
      "metadata": {
        "id": "x8nu-jOsMgQ3"
      }
    },
    {
      "cell_type": "code",
      "source": [
        "!pip install mahotas"
      ],
      "metadata": {
        "colab": {
          "base_uri": "https://localhost:8080/"
        },
        "id": "X1Y_sxu8NeJM",
        "outputId": "e51ae929-cc71-483f-ca6b-c541dacb1a09"
      },
      "execution_count": 1,
      "outputs": [
        {
          "output_type": "stream",
          "name": "stdout",
          "text": [
            "Looking in indexes: https://pypi.org/simple, https://us-python.pkg.dev/colab-wheels/public/simple/\n",
            "Collecting mahotas\n",
            "  Downloading mahotas-1.4.13-cp37-cp37m-manylinux_2_12_x86_64.manylinux2010_x86_64.whl (5.7 MB)\n",
            "\u001b[K     |████████████████████████████████| 5.7 MB 6.3 MB/s \n",
            "\u001b[?25hRequirement already satisfied: numpy in /usr/local/lib/python3.7/dist-packages (from mahotas) (1.21.6)\n",
            "Installing collected packages: mahotas\n",
            "Successfully installed mahotas-1.4.13\n"
          ]
        }
      ]
    },
    {
      "cell_type": "code",
      "source": [
        "from sklearn.preprocessing import LabelEncoder\n",
        "from sklearn.preprocessing import MinMaxScaler\n",
        "import numpy as np\n",
        "import mahotas\n",
        "import cv2\n",
        "import os\n",
        "import h5py"
      ],
      "metadata": {
        "id": "Nhg2pwRiNGXU"
      },
      "execution_count": 2,
      "outputs": []
    },
    {
      "cell_type": "code",
      "source": [
        "TRAIN_PATH = 'dataset/train'\n",
        "TEST_PATH = 'dataset/test'\n",
        "VAL_PATH = 'dataset/val'\n",
        "FIXED_SIZE = (500, 500)\n",
        "BINS = 8\n",
        "\n",
        "# ubah ke 'output/train_data.h5'\n",
        "H5_TRAIN_DATA = '/content/drive/MyDrive/banana-leaf/output/train_data.h5'\n",
        "# ubah ke 'output/train_labels.h5'\n",
        "H5_TRAIN_LABELS = '/content/drive/MyDrive/banana-leaf/output/train_labels.h5'"
      ],
      "metadata": {
        "id": "oD7B-gaXPjIK"
      },
      "execution_count": 17,
      "outputs": []
    },
    {
      "cell_type": "markdown",
      "source": [
        "## Ambil data\n",
        "\n",
        "Data langsung didownload dari [kaggle](https://www.kaggle.com/datasets/kaiesalmahmud/banana-leaf-dataset?select=train). Sebelum menjalankan kode dibawah jalankan langkah berikut untuk mendapatkan credential kaggle:\n",
        "\n",
        "1. Buka [kaggle](kaggle.com), login kalo belum login\n",
        "2. Klik foto profil\n",
        "3. Pilih `account`\n",
        "4. Scroll kebawah sampe ketemu section API\n",
        "5. Klik `Create New API token`, nanti bakal download `kaggle.json`\n",
        "6. Simpan di mana aja\n",
        "7. Upload kaggle.json ke google drive lu, jangan simpan di dalam folder, simpan aja di paling luar.\n",
        "8. Done, enjoy, salam luar biasa."
      ],
      "metadata": {
        "id": "nzi9-MypGPWU"
      }
    },
    {
      "cell_type": "code",
      "execution_count": 4,
      "metadata": {
        "colab": {
          "base_uri": "https://localhost:8080/"
        },
        "id": "TbPXSwe4FSkL",
        "outputId": "5d828b20-eea0-459e-abff-5907b835ea0b"
      },
      "outputs": [
        {
          "output_type": "stream",
          "name": "stdout",
          "text": [
            "Mounted at /content/drive\n"
          ]
        }
      ],
      "source": [
        "from google.colab import drive\n",
        "drive.mount('/content/drive')"
      ]
    },
    {
      "cell_type": "code",
      "source": [
        "%%bash\n",
        "pip install kaggle\n",
        "mkdir ~/.kaggle\n",
        "cp /content/drive/MyDrive/kaggle.json ~/.kaggle/kaggle.json\n",
        "chmod 600 ~/.kaggle/kaggle.json\n",
        "kaggle datasets download -d kaiesalmahmud/banana-leaf-dataset"
      ],
      "metadata": {
        "colab": {
          "base_uri": "https://localhost:8080/"
        },
        "id": "xhZ9nwScGT6t",
        "outputId": "ad35d2d6-45d8-412e-d0e1-f448f57d038a"
      },
      "execution_count": 5,
      "outputs": [
        {
          "output_type": "stream",
          "name": "stdout",
          "text": [
            "Looking in indexes: https://pypi.org/simple, https://us-python.pkg.dev/colab-wheels/public/simple/\n",
            "Requirement already satisfied: kaggle in /usr/local/lib/python3.7/dist-packages (1.5.12)\n",
            "Requirement already satisfied: tqdm in /usr/local/lib/python3.7/dist-packages (from kaggle) (4.64.1)\n",
            "Requirement already satisfied: requests in /usr/local/lib/python3.7/dist-packages (from kaggle) (2.23.0)\n",
            "Requirement already satisfied: urllib3 in /usr/local/lib/python3.7/dist-packages (from kaggle) (1.24.3)\n",
            "Requirement already satisfied: python-dateutil in /usr/local/lib/python3.7/dist-packages (from kaggle) (2.8.2)\n",
            "Requirement already satisfied: six>=1.10 in /usr/local/lib/python3.7/dist-packages (from kaggle) (1.15.0)\n",
            "Requirement already satisfied: python-slugify in /usr/local/lib/python3.7/dist-packages (from kaggle) (6.1.2)\n",
            "Requirement already satisfied: certifi in /usr/local/lib/python3.7/dist-packages (from kaggle) (2022.6.15)\n",
            "Requirement already satisfied: text-unidecode>=1.3 in /usr/local/lib/python3.7/dist-packages (from python-slugify->kaggle) (1.3)\n",
            "Requirement already satisfied: idna<3,>=2.5 in /usr/local/lib/python3.7/dist-packages (from requests->kaggle) (2.10)\n",
            "Requirement already satisfied: chardet<4,>=3.0.2 in /usr/local/lib/python3.7/dist-packages (from requests->kaggle) (3.0.4)\n",
            "Downloading banana-leaf-dataset.zip to /content\n",
            "\n"
          ]
        },
        {
          "output_type": "stream",
          "name": "stderr",
          "text": [
            "\r  0%|          | 0.00/3.29G [00:00<?, ?B/s]\r  0%|          | 5.00M/3.29G [00:00<01:42, 34.3MB/s]\r  1%|          | 25.0M/3.29G [00:00<00:45, 77.7MB/s]\r  1%|          | 41.0M/3.29G [00:00<00:39, 87.2MB/s]\r  2%|▏         | 57.0M/3.29G [00:00<00:44, 78.2MB/s]\r  2%|▏         | 73.0M/3.29G [00:00<00:40, 85.4MB/s]\r  3%|▎         | 97.0M/3.29G [00:01<00:33, 103MB/s] \r  3%|▎         | 113M/3.29G [00:01<00:31, 109MB/s] \r  4%|▍         | 135M/3.29G [00:01<00:25, 135MB/s]\r  4%|▍         | 150M/3.29G [00:01<00:29, 114MB/s]\r  5%|▍         | 163M/3.29G [00:01<00:29, 115MB/s]\r  5%|▌         | 182M/3.29G [00:01<00:25, 130MB/s]\r  6%|▌         | 196M/3.29G [00:01<00:29, 111MB/s]\r  6%|▌         | 209M/3.29G [00:02<00:29, 112MB/s]\r  7%|▋         | 223M/3.29G [00:02<00:27, 120MB/s]\r  7%|▋         | 236M/3.29G [00:02<00:30, 108MB/s]\r  7%|▋         | 247M/3.29G [00:02<00:33, 96.4MB/s]\r  8%|▊         | 257M/3.29G [00:02<00:34, 94.3MB/s]\r  8%|▊         | 280M/3.29G [00:02<00:25, 129MB/s] \r  9%|▊         | 294M/3.29G [00:02<00:28, 114MB/s]\r  9%|▉         | 306M/3.29G [00:03<00:29, 107MB/s]\r  9%|▉         | 317M/3.29G [00:03<00:37, 86.3MB/s]\r 10%|▉         | 331M/3.29G [00:03<00:32, 99.0MB/s]\r 10%|█         | 345M/3.29G [00:03<00:37, 85.2MB/s]\r 11%|█         | 355M/3.29G [00:03<00:37, 84.7MB/s]\r 11%|█         | 364M/3.29G [00:03<00:39, 79.9MB/s]\r 11%|█         | 373M/3.29G [00:03<00:38, 81.0MB/s]\r 11%|█▏        | 383M/3.29G [00:04<00:36, 85.4MB/s]\r 12%|█▏        | 392M/3.29G [00:04<00:38, 80.7MB/s]\r 12%|█▏        | 400M/3.29G [00:04<00:42, 73.0MB/s]\r 12%|█▏        | 409M/3.29G [00:04<00:49, 62.2MB/s]\r 13%|█▎        | 427M/3.29G [00:04<00:34, 88.6MB/s]\r 13%|█▎        | 437M/3.29G [00:04<00:48, 63.9MB/s]\r 14%|█▎        | 456M/3.29G [00:05<00:34, 88.4MB/s]\r 14%|█▍        | 467M/3.29G [00:05<00:41, 72.6MB/s]\r 14%|█▍        | 480M/3.29G [00:05<00:36, 83.7MB/s]\r 15%|█▍        | 490M/3.29G [00:05<00:37, 80.5MB/s]\r 15%|█▍        | 500M/3.29G [00:05<00:35, 84.4MB/s]\r 15%|█▌        | 514M/3.29G [00:05<00:30, 98.0MB/s]\r 16%|█▌        | 525M/3.29G [00:05<00:29, 101MB/s] \r 16%|█▌        | 539M/3.29G [00:05<00:26, 112MB/s]\r 16%|█▋        | 551M/3.29G [00:06<00:32, 91.1MB/s]\r 17%|█▋        | 561M/3.29G [00:06<00:47, 61.8MB/s]\r 17%|█▋        | 577M/3.29G [00:06<00:42, 68.7MB/s]\r 17%|█▋        | 585M/3.29G [00:06<00:49, 58.8MB/s]\r 18%|█▊        | 601M/3.29G [00:07<00:50, 57.7MB/s]\r 18%|█▊        | 618M/3.29G [00:07<00:40, 72.0MB/s]\r 19%|█▊        | 627M/3.29G [00:07<00:38, 75.5MB/s]\r 19%|█▉        | 640M/3.29G [00:07<00:32, 87.5MB/s]\r 19%|█▉        | 650M/3.29G [00:07<00:31, 90.7MB/s]\r 20%|█▉        | 660M/3.29G [00:07<00:36, 78.9MB/s]\r 20%|██        | 677M/3.29G [00:07<00:28, 100MB/s] \r 20%|██        | 688M/3.29G [00:08<00:30, 91.8MB/s]\r 21%|██        | 698M/3.29G [00:08<00:35, 78.5MB/s]\r 21%|██        | 709M/3.29G [00:08<00:33, 84.3MB/s]\r 21%|██▏       | 718M/3.29G [00:08<00:35, 78.8MB/s]\r 22%|██▏       | 727M/3.29G [00:08<00:34, 79.2MB/s]\r 22%|██▏       | 735M/3.29G [00:08<00:34, 79.9MB/s]\r 22%|██▏       | 748M/3.29G [00:08<00:29, 92.7MB/s]\r 23%|██▎       | 758M/3.29G [00:09<00:44, 62.2MB/s]\r 23%|██▎       | 777M/3.29G [00:09<00:33, 80.9MB/s]\r 23%|██▎       | 786M/3.29G [00:09<00:36, 74.1MB/s]\r 24%|██▎       | 795M/3.29G [00:09<00:35, 76.4MB/s]\r 24%|██▍       | 809M/3.29G [00:09<00:30, 87.5MB/s]\r 24%|██▍       | 825M/3.29G [00:09<00:25, 105MB/s] \r 25%|██▍       | 836M/3.29G [00:09<00:29, 90.1MB/s]\r 25%|██▌       | 854M/3.29G [00:10<00:23, 112MB/s] \r 26%|██▌       | 866M/3.29G [00:10<00:23, 112MB/s]\r 26%|██▌       | 878M/3.29G [00:10<00:31, 82.2MB/s]\r 27%|██▋       | 897M/3.29G [00:10<00:28, 90.8MB/s]\r 27%|██▋       | 921M/3.29G [00:10<00:28, 91.1MB/s]\r 28%|██▊       | 932M/3.29G [00:11<00:26, 95.0MB/s]\r 28%|██▊       | 954M/3.29G [00:11<00:20, 121MB/s] \r 29%|██▊       | 968M/3.29G [00:11<00:23, 108MB/s]\r 29%|██▉       | 980M/3.29G [00:11<00:23, 107MB/s]\r 29%|██▉       | 993M/3.29G [00:11<00:30, 82.3MB/s]\r 30%|███       | 0.99G/3.29G [00:11<00:22, 111MB/s]\r 31%|███       | 1.01G/3.29G [00:11<00:23, 103MB/s]\r 31%|███       | 1.02G/3.29G [00:12<00:22, 109MB/s]\r 31%|███▏      | 1.03G/3.29G [00:12<00:26, 92.8MB/s]\r 32%|███▏      | 1.04G/3.29G [00:12<00:23, 104MB/s] \r 32%|███▏      | 1.06G/3.29G [00:12<00:19, 124MB/s]\r 33%|███▎      | 1.08G/3.29G [00:12<00:19, 122MB/s]\r 33%|███▎      | 1.09G/3.29G [00:12<00:20, 115MB/s]\r 34%|███▎      | 1.11G/3.29G [00:12<00:18, 127MB/s]\r 34%|███▍      | 1.12G/3.29G [00:13<00:19, 121MB/s]\r 34%|███▍      | 1.13G/3.29G [00:13<00:23, 97.6MB/s]\r 35%|███▍      | 1.14G/3.29G [00:13<00:22, 102MB/s] \r 35%|███▌      | 1.16G/3.29G [00:13<00:22, 103MB/s]\r 35%|███▌      | 1.17G/3.29G [00:13<00:22, 101MB/s]\r 36%|███▌      | 1.18G/3.29G [00:13<00:19, 115MB/s]\r 36%|███▋      | 1.20G/3.29G [00:13<00:22, 99.3MB/s]\r 37%|███▋      | 1.21G/3.29G [00:13<00:19, 116MB/s] \r 37%|███▋      | 1.23G/3.29G [00:14<00:16, 132MB/s]\r 38%|███▊      | 1.25G/3.29G [00:14<00:15, 143MB/s]\r 38%|███▊      | 1.26G/3.29G [00:14<00:16, 135MB/s]\r 39%|███▉      | 1.28G/3.29G [00:14<00:16, 129MB/s]\r 39%|███▉      | 1.29G/3.29G [00:14<00:15, 136MB/s]\r 40%|███▉      | 1.30G/3.29G [00:14<00:15, 138MB/s]\r 40%|████      | 1.32G/3.29G [00:14<00:16, 125MB/s]\r 40%|████      | 1.33G/3.29G [00:14<00:18, 115MB/s]\r 41%|████      | 1.34G/3.29G [00:15<00:19, 110MB/s]\r 41%|████▏     | 1.36G/3.29G [00:15<00:15, 132MB/s]\r 42%|████▏     | 1.37G/3.29G [00:15<00:15, 131MB/s]\r 42%|████▏     | 1.39G/3.29G [00:15<00:14, 140MB/s]\r 43%|████▎     | 1.41G/3.29G [00:15<00:13, 150MB/s]\r 43%|████▎     | 1.42G/3.29G [00:15<00:14, 134MB/s]\r 44%|████▎     | 1.44G/3.29G [00:15<00:15, 128MB/s]\r 44%|████▍     | 1.45G/3.29G [00:16<00:48, 40.8MB/s]\r 44%|████▍     | 1.46G/3.29G [00:16<00:40, 48.6MB/s]\r 45%|████▍     | 1.47G/3.29G [00:17<00:41, 46.7MB/s]\r 45%|████▌     | 1.49G/3.29G [00:17<00:29, 64.6MB/s]\r 46%|████▌     | 1.50G/3.29G [00:17<00:28, 67.6MB/s]\r 46%|████▌     | 1.52G/3.29G [00:17<00:24, 79.2MB/s]\r 46%|████▋     | 1.53G/3.29G [00:17<00:28, 66.4MB/s]\r 47%|████▋     | 1.54G/3.29G [00:17<00:24, 75.7MB/s]\r 47%|████▋     | 1.55G/3.29G [00:18<00:25, 73.5MB/s]\r 47%|████▋     | 1.56G/3.29G [00:18<00:24, 74.4MB/s]\r 48%|████▊     | 1.57G/3.29G [00:18<00:21, 85.0MB/s]\r 48%|████▊     | 1.58G/3.29G [00:18<00:32, 56.8MB/s]\r 48%|████▊     | 1.59G/3.29G [00:18<00:25, 70.4MB/s]\r 49%|████▊     | 1.60G/3.29G [00:18<00:23, 77.1MB/s]\r 49%|████▉     | 1.62G/3.29G [00:18<00:20, 88.5MB/s]\r 49%|████▉     | 1.63G/3.29G [00:19<00:23, 77.4MB/s]\r 50%|████▉     | 1.63G/3.29G [00:19<00:23, 76.5MB/s]\r 50%|████▉     | 1.64G/3.29G [00:19<00:22, 77.5MB/s]\r 50%|█████     | 1.65G/3.29G [00:19<00:28, 62.0MB/s]\r 50%|█████     | 1.66G/3.29G [00:19<00:30, 56.8MB/s]\r 51%|█████     | 1.67G/3.29G [00:19<00:33, 52.2MB/s]\r 51%|█████     | 1.67G/3.29G [00:20<00:34, 50.3MB/s]\r 51%|█████     | 1.68G/3.29G [00:20<00:37, 46.2MB/s]\r 51%|█████     | 1.68G/3.29G [00:20<00:37, 45.4MB/s]\r 51%|█████▏    | 1.69G/3.29G [00:20<00:28, 60.1MB/s]\r 52%|█████▏    | 1.70G/3.29G [00:20<00:29, 57.6MB/s]\r 52%|█████▏    | 1.71G/3.29G [00:20<00:25, 65.3MB/s]\r 52%|█████▏    | 1.72G/3.29G [00:21<00:34, 49.1MB/s]\r 53%|█████▎    | 1.74G/3.29G [00:21<00:30, 55.1MB/s]\r 53%|█████▎    | 1.75G/3.29G [00:21<00:26, 63.1MB/s]\r 53%|█████▎    | 1.76G/3.29G [00:21<00:29, 56.1MB/s]\r 54%|█████▎    | 1.77G/3.29G [00:21<00:28, 56.6MB/s]\r 54%|█████▍    | 1.77G/3.29G [00:21<00:26, 61.4MB/s]\r 54%|█████▍    | 1.78G/3.29G [00:22<00:24, 65.9MB/s]\r 54%|█████▍    | 1.79G/3.29G [00:22<00:39, 40.9MB/s]\r 55%|█████▍    | 1.80G/3.29G [00:22<00:29, 54.2MB/s]\r 55%|█████▌    | 1.81G/3.29G [00:22<00:31, 50.1MB/s]\r 55%|█████▌    | 1.82G/3.29G [00:22<00:24, 65.4MB/s]\r 56%|█████▌    | 1.83G/3.29G [00:23<00:23, 67.4MB/s]\r 56%|█████▌    | 1.84G/3.29G [00:23<00:23, 65.8MB/s]\r 56%|█████▋    | 1.85G/3.29G [00:23<00:19, 78.1MB/s]\r 57%|█████▋    | 1.86G/3.29G [00:23<00:21, 72.8MB/s]\r 57%|█████▋    | 1.87G/3.29G [00:23<00:20, 74.3MB/s]\r 57%|█████▋    | 1.88G/3.29G [00:23<00:25, 58.6MB/s]\r 57%|█████▋    | 1.88G/3.29G [00:23<00:22, 67.6MB/s]\r 58%|█████▊    | 1.90G/3.29G [00:23<00:18, 82.5MB/s]\r 58%|█████▊    | 1.91G/3.29G [00:24<00:21, 69.6MB/s]\r 58%|█████▊    | 1.92G/3.29G [00:24<00:33, 43.9MB/s]\r 59%|█████▊    | 1.93G/3.29G [00:24<00:27, 53.5MB/s]\r 59%|█████▉    | 1.94G/3.29G [00:24<00:21, 67.8MB/s]\r 59%|█████▉    | 1.95G/3.29G [00:25<00:21, 66.8MB/s]\r 60%|█████▉    | 1.96G/3.29G [00:25<00:24, 57.8MB/s]\r 60%|██████    | 1.98G/3.29G [00:25<00:18, 76.9MB/s]\r 60%|██████    | 1.99G/3.29G [00:25<00:22, 62.6MB/s]\r 61%|██████    | 2.00G/3.29G [00:25<00:15, 87.6MB/s]\r 61%|██████▏   | 2.02G/3.29G [00:25<00:13, 102MB/s] \r 62%|██████▏   | 2.03G/3.29G [00:26<00:13, 97.3MB/s]\r 62%|██████▏   | 2.05G/3.29G [00:26<00:10, 127MB/s] \r 63%|██████▎   | 2.07G/3.29G [00:26<00:10, 123MB/s]\r 63%|██████▎   | 2.08G/3.29G [00:26<00:12, 103MB/s]\r 64%|██████▎   | 2.10G/3.29G [00:26<00:11, 112MB/s]\r 64%|██████▍   | 2.11G/3.29G [00:26<00:11, 113MB/s]\r 64%|██████▍   | 2.12G/3.29G [00:26<00:15, 82.8MB/s]\r 65%|██████▍   | 2.14G/3.29G [00:27<00:12, 99.6MB/s]\r 65%|██████▌   | 2.15G/3.29G [00:27<00:12, 101MB/s] \r 66%|██████▌   | 2.17G/3.29G [00:27<00:09, 122MB/s]\r 66%|██████▋   | 2.18G/3.29G [00:27<00:08, 135MB/s]\r 67%|██████▋   | 2.20G/3.29G [00:27<00:09, 125MB/s]\r 67%|██████▋   | 2.21G/3.29G [00:27<00:08, 129MB/s]\r 68%|██████▊   | 2.23G/3.29G [00:27<00:10, 113MB/s]\r 68%|██████▊   | 2.24G/3.29G [00:28<00:10, 103MB/s]\r 69%|██████▉   | 2.26G/3.29G [00:28<00:09, 121MB/s]\r 69%|██████▉   | 2.28G/3.29G [00:28<00:08, 125MB/s]\r 70%|██████▉   | 2.30G/3.29G [00:28<00:08, 123MB/s]\r 70%|███████   | 2.31G/3.29G [00:28<00:08, 128MB/s]\r 71%|███████   | 2.32G/3.29G [00:28<00:10, 98.5MB/s]\r 71%|███████▏  | 2.34G/3.29G [00:28<00:08, 117MB/s] \r 72%|███████▏  | 2.36G/3.29G [00:29<00:09, 108MB/s]\r 72%|███████▏  | 2.38G/3.29G [00:29<00:07, 137MB/s]\r 73%|███████▎  | 2.40G/3.29G [00:29<00:06, 142MB/s]\r 73%|███████▎  | 2.41G/3.29G [00:29<00:11, 80.4MB/s]\r 74%|███████▎  | 2.42G/3.29G [00:29<00:10, 87.2MB/s]\r 74%|███████▍  | 2.44G/3.29G [00:29<00:09, 94.0MB/s]\r 75%|███████▍  | 2.45G/3.29G [00:30<00:08, 104MB/s] \r 75%|███████▍  | 2.47G/3.29G [00:30<00:07, 118MB/s]\r 75%|███████▌  | 2.48G/3.29G [00:30<00:08, 103MB/s]\r 76%|███████▌  | 2.50G/3.29G [00:30<00:06, 136MB/s]\r 77%|███████▋  | 2.52G/3.29G [00:30<00:06, 118MB/s]\r 77%|███████▋  | 2.53G/3.29G [00:30<00:07, 105MB/s]\r 78%|███████▊  | 2.56G/3.29G [00:30<00:05, 139MB/s]\r 78%|███████▊  | 2.57G/3.29G [00:31<00:05, 130MB/s]\r 79%|███████▊  | 2.59G/3.29G [00:31<00:05, 136MB/s]\r 79%|███████▉  | 2.61G/3.29G [00:31<00:05, 146MB/s]\r 80%|███████▉  | 2.62G/3.29G [00:31<00:04, 149MB/s]\r 80%|████████  | 2.64G/3.29G [00:31<00:04, 143MB/s]\r 81%|████████  | 2.65G/3.29G [00:31<00:04, 149MB/s]\r 81%|████████  | 2.67G/3.29G [00:31<00:04, 142MB/s]\r 81%|████████▏ | 2.68G/3.29G [00:31<00:05, 121MB/s]\r 82%|████████▏ | 2.69G/3.29G [00:32<00:08, 72.3MB/s]\r 82%|████████▏ | 2.71G/3.29G [00:32<00:07, 87.9MB/s]\r 83%|████████▎ | 2.72G/3.29G [00:32<00:06, 92.4MB/s]\r 83%|████████▎ | 2.74G/3.29G [00:32<00:07, 79.7MB/s]\r 84%|████████▍ | 2.76G/3.29G [00:32<00:05, 113MB/s] \r 84%|████████▍ | 2.77G/3.29G [00:32<00:05, 110MB/s]\r 85%|████████▌ | 2.80G/3.29G [00:33<00:04, 119MB/s]\r 86%|████████▌ | 2.82G/3.29G [00:33<00:05, 98.7MB/s]\r 86%|████████▌ | 2.84G/3.29G [00:33<00:04, 108MB/s] \r 87%|████████▋ | 2.85G/3.29G [00:33<00:03, 119MB/s]\r 87%|████████▋ | 2.88G/3.29G [00:33<00:04, 110MB/s]\r 88%|████████▊ | 2.90G/3.29G [00:34<00:03, 131MB/s]\r 89%|████████▊ | 2.91G/3.29G [00:34<00:02, 140MB/s]\r 89%|████████▉ | 2.93G/3.29G [00:34<00:03, 116MB/s]\r 90%|████████▉ | 2.95G/3.29G [00:34<00:02, 135MB/s]\r 90%|█████████ | 2.96G/3.29G [00:34<00:03, 103MB/s]\r 91%|█████████ | 2.98G/3.29G [00:34<00:02, 113MB/s]\r 91%|█████████ | 2.99G/3.29G [00:34<00:02, 114MB/s]\r 92%|█████████▏| 3.01G/3.29G [00:35<00:02, 144MB/s]\r 92%|█████████▏| 3.03G/3.29G [00:35<00:02, 124MB/s]\r 93%|█████████▎| 3.04G/3.29G [00:35<00:02, 128MB/s]\r 93%|█████████▎| 3.06G/3.29G [00:35<00:02, 113MB/s]\r 93%|█████████▎| 3.07G/3.29G [00:35<00:02, 117MB/s]\r 94%|█████████▍| 3.09G/3.29G [00:35<00:01, 125MB/s]\r 95%|█████████▍| 3.11G/3.29G [00:35<00:01, 160MB/s]\r 95%|█████████▌| 3.13G/3.29G [00:36<00:01, 140MB/s]\r 96%|█████████▌| 3.15G/3.29G [00:36<00:01, 122MB/s]\r 96%|█████████▌| 3.16G/3.29G [00:36<00:01, 126MB/s]\r 97%|█████████▋| 3.18G/3.29G [00:36<00:01, 119MB/s]\r 97%|█████████▋| 3.20G/3.29G [00:36<00:00, 140MB/s]\r 98%|█████████▊| 3.21G/3.29G [00:36<00:00, 102MB/s]\r 98%|█████████▊| 3.24G/3.29G [00:37<00:00, 121MB/s]\r 99%|█████████▉| 3.25G/3.29G [00:37<00:00, 95.9MB/s]\r 99%|█████████▉| 3.27G/3.29G [00:37<00:00, 118MB/s] \r100%|█████████▉| 3.28G/3.29G [00:37<00:00, 111MB/s]\r100%|██████████| 3.29G/3.29G [00:37<00:00, 93.9MB/s]\n"
          ]
        }
      ]
    },
    {
      "cell_type": "code",
      "source": [
        "%%bash\n",
        "mkdir dataset\n",
        "unzip \\*.zip -d dataset && rm *.zip"
      ],
      "metadata": {
        "id": "R1Ib-D4gNL-g",
        "colab": {
          "base_uri": "https://localhost:8080/"
        },
        "outputId": "c55ae694-4ddf-4038-fc85-e93136c12bfa"
      },
      "execution_count": 6,
      "outputs": [
        {
          "output_type": "stream",
          "name": "stdout",
          "text": [
            "Archive:  banana-leaf-dataset.zip\n",
            "  inflating: dataset/test/cordana/1615455263756.jpg  \n",
            "  inflating: dataset/test/cordana/1615455263764.jpg  \n",
            "  inflating: dataset/test/cordana/1615455263771.jpg  \n",
            "  inflating: dataset/test/cordana/1615455263787.jpg  \n",
            "  inflating: dataset/test/cordana/1615455263804.jpg  \n",
            "  inflating: dataset/test/cordana/1615455263832.jpg  \n",
            "  inflating: dataset/test/cordana/1615455263850.jpg  \n",
            "  inflating: dataset/test/cordana/1615455263868.jpg  \n",
            "  inflating: dataset/test/cordana/1615455263878.jpg  \n",
            "  inflating: dataset/test/cordana/1615455263914.jpg  \n",
            "  inflating: dataset/test/cordana/1615455263923.jpg  \n",
            "  inflating: dataset/test/cordana/1615455263932.jpg  \n",
            "  inflating: dataset/test/cordana/1615455263940.jpg  \n",
            "  inflating: dataset/test/cordana/1615455263949.jpg  \n",
            "  inflating: dataset/test/cordana/1615455263959.jpg  \n",
            "  inflating: dataset/test/cordana/1615455263976.jpg  \n",
            "  inflating: dataset/test/cordana/1615455264032.jpg  \n",
            "  inflating: dataset/test/cordana/1615455264041.jpg  \n",
            "  inflating: dataset/test/cordana/1615455264058.jpg  \n",
            "  inflating: dataset/test/cordana/1615455264067.jpg  \n",
            "  inflating: dataset/test/healthy/IMG_20210309_124909.jpg  \n",
            "  inflating: dataset/test/healthy/IMG_20210309_132044.jpg  \n",
            "  inflating: dataset/test/healthy/IMG_20210309_132113.jpg  \n",
            "  inflating: dataset/test/healthy/IMG_20210309_132144.jpg  \n",
            "  inflating: dataset/test/healthy/IMG_20210309_132219.jpg  \n",
            "  inflating: dataset/test/healthy/IMG_20210309_133227.jpg  \n",
            "  inflating: dataset/test/healthy/IMG_20210309_133318.jpg  \n",
            "  inflating: dataset/test/healthy/IMG_20210309_134325.jpg  \n",
            "  inflating: dataset/test/healthy/IMG_20210309_134645.jpg  \n",
            "  inflating: dataset/test/healthy/IMG_20210309_134839.jpg  \n",
            "  inflating: dataset/test/healthy/IMG_20210309_134852.jpg  \n",
            "  inflating: dataset/test/healthy/IMG_20210309_135144.jpg  \n",
            "  inflating: dataset/test/healthy/IMG_20210309_135450.jpg  \n",
            "  inflating: dataset/test/healthy/IMG_20210309_140028.jpg  \n",
            "  inflating: dataset/test/healthy/IMG_20210309_140040.jpg  \n",
            "  inflating: dataset/test/healthy/h10 (2).jpg  \n",
            "  inflating: dataset/test/healthy/h10 (5).jpg  \n",
            "  inflating: dataset/test/healthy/h12 (1).jpg  \n",
            "  inflating: dataset/test/healthy/h8 (1).jpg  \n",
            "  inflating: dataset/test/healthy/h8 (2).jpg  \n",
            "  inflating: dataset/test/pestalotiopsis/IMG_20210309_123802.jpg  \n",
            "  inflating: dataset/test/pestalotiopsis/IMG_20210309_124123.jpg  \n",
            "  inflating: dataset/test/pestalotiopsis/IMG_20210309_124129.jpg  \n",
            "  inflating: dataset/test/pestalotiopsis/IMG_20210309_124200.jpg  \n",
            "  inflating: dataset/test/pestalotiopsis/IMG_20210309_124626.jpg  \n",
            "  inflating: dataset/test/pestalotiopsis/IMG_20210309_124953.jpg  \n",
            "  inflating: dataset/test/pestalotiopsis/IMG_20210309_125013.jpg  \n",
            "  inflating: dataset/test/pestalotiopsis/IMG_20210309_125015.jpg  \n",
            "  inflating: dataset/test/pestalotiopsis/IMG_20210309_131500.jpg  \n",
            "  inflating: dataset/test/pestalotiopsis/IMG_20210309_131503.jpg  \n",
            "  inflating: dataset/test/pestalotiopsis/IMG_20210309_131513.jpg  \n",
            "  inflating: dataset/test/pestalotiopsis/IMG_20210309_131556.jpg  \n",
            "  inflating: dataset/test/pestalotiopsis/IMG_20210309_131706.jpg  \n",
            "  inflating: dataset/test/pestalotiopsis/IMG_20210309_131914.jpg  \n",
            "  inflating: dataset/test/pestalotiopsis/IMG_20210309_132003.jpg  \n",
            "  inflating: dataset/test/pestalotiopsis/IMG_20210309_132210.jpg  \n",
            "  inflating: dataset/test/pestalotiopsis/IMG_20210309_132405.jpg  \n",
            "  inflating: dataset/test/pestalotiopsis/IMG_20210309_132406.jpg  \n",
            "  inflating: dataset/test/pestalotiopsis/IMG_20210309_133830.jpg  \n",
            "  inflating: dataset/test/pestalotiopsis/IMG_20210309_134246.jpg  \n",
            "  inflating: dataset/test/sigatoka/IMG_20210311_102720.jpg  \n",
            "  inflating: dataset/test/sigatoka/IMG_20210311_102743.jpg  \n",
            "  inflating: dataset/test/sigatoka/IMG_20210311_102917_1.jpg  \n",
            "  inflating: dataset/test/sigatoka/IMG_20210311_103042_1.jpg  \n",
            "  inflating: dataset/test/sigatoka/IMG_20210311_103135_1.jpg  \n",
            "  inflating: dataset/test/sigatoka/IMG_20210311_103508_1.jpg  \n",
            "  inflating: dataset/test/sigatoka/IMG_20210311_104043.jpg  \n",
            "  inflating: dataset/test/sigatoka/IMG_20210311_104948_1.jpg  \n",
            "  inflating: dataset/test/sigatoka/IMG_20210311_120637.jpg  \n",
            "  inflating: dataset/test/sigatoka/IMG_20210311_122209.jpg  \n",
            "  inflating: dataset/test/sigatoka/IMG_20210311_123648_1.jpg  \n",
            "  inflating: dataset/test/sigatoka/IMG_20210311_124920.jpg  \n",
            "  inflating: dataset/test/sigatoka/IMG_20210312_172846.jpg  \n",
            "  inflating: dataset/test/sigatoka/IMG_20210312_173220_1.jpg  \n",
            "  inflating: dataset/test/sigatoka/IMG_20210312_173607_1.jpg  \n",
            "  inflating: dataset/test/sigatoka/IMG_20210312_173912.jpg  \n",
            "  inflating: dataset/test/sigatoka/IMG_20210312_174018_1.jpg  \n",
            "  inflating: dataset/test/sigatoka/IMG_20210312_174026_1.jpg  \n",
            "  inflating: dataset/test/sigatoka/IMG_20210312_174057_1.jpg  \n",
            "  inflating: dataset/test/sigatoka/IMG_20210312_174148_1.jpg  \n",
            "  inflating: dataset/train/cordana/1615455264112.jpg  \n",
            "  inflating: dataset/train/cordana/1615455264156.jpg  \n",
            "  inflating: dataset/train/cordana/1615455264212.jpg  \n",
            "  inflating: dataset/train/cordana/1615455264243.jpg  \n",
            "  inflating: dataset/train/cordana/1615455264273.jpg  \n",
            "  inflating: dataset/train/cordana/1615455264283.jpg  \n",
            "  inflating: dataset/train/cordana/1615455264288.jpg  \n",
            "  inflating: dataset/train/cordana/1615455264315.jpg  \n",
            "  inflating: dataset/train/cordana/1615455264641.jpg  \n",
            "  inflating: dataset/train/cordana/1615455264650.jpg  \n",
            "  inflating: dataset/train/cordana/aug-image-_0_116.jpeg  \n",
            "  inflating: dataset/train/cordana/aug-image-_0_1196.jpeg  \n",
            "  inflating: dataset/train/cordana/aug-image-_0_122.jpeg  \n",
            "  inflating: dataset/train/cordana/aug-image-_0_123.jpeg  \n",
            "  inflating: dataset/train/cordana/aug-image-_0_1440.jpeg  \n",
            "  inflating: dataset/train/cordana/aug-image-_0_1464.jpeg  \n",
            "  inflating: dataset/train/cordana/aug-image-_0_1518.jpeg  \n",
            "  inflating: dataset/train/cordana/aug-image-_0_1575.jpeg  \n",
            "  inflating: dataset/train/cordana/aug-image-_0_1780.jpeg  \n",
            "  inflating: dataset/train/cordana/aug-image-_0_1882.jpeg  \n",
            "  inflating: dataset/train/cordana/aug-image-_0_1894.jpeg  \n",
            "  inflating: dataset/train/cordana/aug-image-_0_1937.jpeg  \n",
            "  inflating: dataset/train/cordana/aug-image-_0_2088.jpeg  \n",
            "  inflating: dataset/train/cordana/aug-image-_0_2123.jpeg  \n",
            "  inflating: dataset/train/cordana/aug-image-_0_213.jpeg  \n",
            "  inflating: dataset/train/cordana/aug-image-_0_2269.jpeg  \n",
            "  inflating: dataset/train/cordana/aug-image-_0_2451.jpeg  \n",
            "  inflating: dataset/train/cordana/aug-image-_0_2483.jpeg  \n",
            "  inflating: dataset/train/cordana/aug-image-_0_2522.jpeg  \n",
            "  inflating: dataset/train/cordana/aug-image-_0_2611.jpeg  \n",
            "  inflating: dataset/train/cordana/aug-image-_0_2739.jpeg  \n",
            "  inflating: dataset/train/cordana/aug-image-_0_2844.jpeg  \n",
            "  inflating: dataset/train/cordana/aug-image-_0_3007.jpeg  \n",
            "  inflating: dataset/train/cordana/aug-image-_0_3044.jpeg  \n",
            "  inflating: dataset/train/cordana/aug-image-_0_3049.jpeg  \n",
            "  inflating: dataset/train/cordana/aug-image-_0_3072.jpeg  \n",
            "  inflating: dataset/train/cordana/aug-image-_0_316.jpeg  \n",
            "  inflating: dataset/train/cordana/aug-image-_0_3172.jpeg  \n",
            "  inflating: dataset/train/cordana/aug-image-_0_3257.jpeg  \n",
            "  inflating: dataset/train/cordana/aug-image-_0_3261.jpeg  \n",
            "  inflating: dataset/train/cordana/aug-image-_0_3277.jpeg  \n",
            "  inflating: dataset/train/cordana/aug-image-_0_354.jpeg  \n",
            "  inflating: dataset/train/cordana/aug-image-_0_3547.jpeg  \n",
            "  inflating: dataset/train/cordana/aug-image-_0_3576.jpeg  \n",
            "  inflating: dataset/train/cordana/aug-image-_0_3647.jpeg  \n",
            "  inflating: dataset/train/cordana/aug-image-_0_3657.jpeg  \n",
            "  inflating: dataset/train/cordana/aug-image-_0_3661.jpeg  \n",
            "  inflating: dataset/train/cordana/aug-image-_0_3927.jpeg  \n",
            "  inflating: dataset/train/cordana/aug-image-_0_3956.jpeg  \n",
            "  inflating: dataset/train/cordana/aug-image-_0_4150.jpeg  \n",
            "  inflating: dataset/train/cordana/aug-image-_0_4159.jpeg  \n",
            "  inflating: dataset/train/cordana/aug-image-_0_4241.jpeg  \n",
            "  inflating: dataset/train/cordana/aug-image-_0_43.jpeg  \n",
            "  inflating: dataset/train/cordana/aug-image-_0_4560.jpeg  \n",
            "  inflating: dataset/train/cordana/aug-image-_0_4564.jpeg  \n",
            "  inflating: dataset/train/cordana/aug-image-_0_4662.jpeg  \n",
            "  inflating: dataset/train/cordana/aug-image-_0_4817.jpeg  \n",
            "  inflating: dataset/train/cordana/aug-image-_0_4827.jpeg  \n",
            "  inflating: dataset/train/cordana/aug-image-_0_4995.jpeg  \n",
            "  inflating: dataset/train/cordana/aug-image-_0_5014.jpeg  \n",
            "  inflating: dataset/train/cordana/aug-image-_0_5025.jpeg  \n",
            "  inflating: dataset/train/cordana/aug-image-_0_5026.jpeg  \n",
            "  inflating: dataset/train/cordana/aug-image-_0_5175.jpeg  \n",
            "  inflating: dataset/train/cordana/aug-image-_0_5181.jpeg  \n",
            "  inflating: dataset/train/cordana/aug-image-_0_5216.jpeg  \n",
            "  inflating: dataset/train/cordana/aug-image-_0_5314.jpeg  \n",
            "  inflating: dataset/train/cordana/aug-image-_0_5341.jpeg  \n",
            "  inflating: dataset/train/cordana/aug-image-_0_5608.jpeg  \n",
            "  inflating: dataset/train/cordana/aug-image-_0_5779.jpeg  \n",
            "  inflating: dataset/train/cordana/aug-image-_0_5807.jpeg  \n",
            "  inflating: dataset/train/cordana/aug-image-_0_5881.jpeg  \n",
            "  inflating: dataset/train/cordana/aug-image-_0_6003.jpeg  \n",
            "  inflating: dataset/train/cordana/aug-image-_0_6028.jpeg  \n",
            "  inflating: dataset/train/cordana/aug-image-_0_6036.jpeg  \n",
            "  inflating: dataset/train/cordana/aug-image-_0_6071.jpeg  \n",
            "  inflating: dataset/train/cordana/aug-image-_0_6075.jpeg  \n",
            "  inflating: dataset/train/cordana/aug-image-_0_6122.jpeg  \n",
            "  inflating: dataset/train/cordana/aug-image-_0_6184.jpeg  \n",
            "  inflating: dataset/train/cordana/aug-image-_0_6240.jpeg  \n",
            "  inflating: dataset/train/cordana/aug-image-_0_6258.jpeg  \n",
            "  inflating: dataset/train/cordana/aug-image-_0_6272.jpeg  \n",
            "  inflating: dataset/train/cordana/aug-image-_0_6379.jpeg  \n",
            "  inflating: dataset/train/cordana/aug-image-_0_6405.jpeg  \n",
            "  inflating: dataset/train/cordana/aug-image-_0_6525.jpeg  \n",
            "  inflating: dataset/train/cordana/aug-image-_0_6606.jpeg  \n",
            "  inflating: dataset/train/cordana/aug-image-_0_665.jpeg  \n",
            "  inflating: dataset/train/cordana/aug-image-_0_679.jpeg  \n",
            "  inflating: dataset/train/cordana/aug-image-_0_6929.jpeg  \n",
            "  inflating: dataset/train/cordana/aug-image-_0_7107.jpeg  \n",
            "  inflating: dataset/train/cordana/aug-image-_0_7165.jpeg  \n",
            "  inflating: dataset/train/cordana/aug-image-_0_7435.jpeg  \n",
            "  inflating: dataset/train/cordana/aug-image-_0_7477.jpeg  \n",
            "  inflating: dataset/train/cordana/aug-image-_0_7560.jpeg  \n",
            "  inflating: dataset/train/cordana/aug-image-_0_7600.jpeg  \n",
            "  inflating: dataset/train/cordana/aug-image-_0_7743.jpeg  \n",
            "  inflating: dataset/train/cordana/aug-image-_0_7803.jpeg  \n",
            "  inflating: dataset/train/cordana/aug-image-_0_7837.jpeg  \n",
            "  inflating: dataset/train/cordana/aug-image-_0_7921.jpeg  \n",
            "  inflating: dataset/train/cordana/aug-image-_0_7925.jpeg  \n",
            "  inflating: dataset/train/cordana/aug-image-_0_8037.jpeg  \n",
            "  inflating: dataset/train/cordana/aug-image-_0_8094.jpeg  \n",
            "  inflating: dataset/train/cordana/aug-image-_0_8123.jpeg  \n",
            "  inflating: dataset/train/cordana/aug-image-_0_8482.jpeg  \n",
            "  inflating: dataset/train/cordana/aug-image-_0_8568.jpeg  \n",
            "  inflating: dataset/train/cordana/aug-image-_0_8631.jpeg  \n",
            "  inflating: dataset/train/cordana/aug-image-_0_8687.jpeg  \n",
            "  inflating: dataset/train/cordana/aug-image-_0_8766.jpeg  \n",
            "  inflating: dataset/train/cordana/aug-image-_0_8845.jpeg  \n",
            "  inflating: dataset/train/cordana/aug-image-_0_89.jpeg  \n",
            "  inflating: dataset/train/cordana/aug-image-_0_9237.jpeg  \n",
            "  inflating: dataset/train/cordana/aug-image-_0_9241.jpeg  \n",
            "  inflating: dataset/train/cordana/aug-image-_0_9283.jpeg  \n",
            "  inflating: dataset/train/cordana/aug-image-_0_9308.jpeg  \n",
            "  inflating: dataset/train/cordana/aug-image-_0_9446.jpeg  \n",
            "  inflating: dataset/train/cordana/aug-image-_0_9470.jpeg  \n",
            "  inflating: dataset/train/cordana/aug-image-_0_9497.jpeg  \n",
            "  inflating: dataset/train/cordana/aug-image-_0_961.jpeg  \n",
            "  inflating: dataset/train/cordana/aug-image-_0_9676.jpeg  \n",
            "  inflating: dataset/train/cordana/aug-image-_0_9775.jpeg  \n",
            "  inflating: dataset/train/cordana/aug-image-_0_9788.jpeg  \n",
            "  inflating: dataset/train/cordana/aug-image-_0_9800.jpeg  \n",
            "  inflating: dataset/train/cordana/aug-image-_0_9947.jpeg  \n",
            "  inflating: dataset/train/healthy/IMG_20210309_124900.jpg  \n",
            "  inflating: dataset/train/healthy/IMG_20210309_131604.jpg  \n",
            "  inflating: dataset/train/healthy/IMG_20210309_131605.jpg  \n",
            "  inflating: dataset/train/healthy/IMG_20210309_131608.jpg  \n",
            "  inflating: dataset/train/healthy/IMG_20210309_131614.jpg  \n",
            "  inflating: dataset/train/healthy/IMG_20210309_131625.jpg  \n",
            "  inflating: dataset/train/healthy/IMG_20210309_131858.jpg  \n",
            "  inflating: dataset/train/healthy/IMG_20210309_131902.jpg  \n",
            "  inflating: dataset/train/healthy/IMG_20210309_131906.jpg  \n",
            "  inflating: dataset/train/healthy/IMG_20210309_132126.jpg  \n",
            "  inflating: dataset/train/healthy/IMG_20210309_132146.jpg  \n",
            "  inflating: dataset/train/healthy/IMG_20210309_132220.jpg  \n",
            "  inflating: dataset/train/healthy/IMG_20210309_132307.jpg  \n",
            "  inflating: dataset/train/healthy/IMG_20210309_132311.jpg  \n",
            "  inflating: dataset/train/healthy/IMG_20210309_133048.jpg  \n",
            "  inflating: dataset/train/healthy/IMG_20210309_133155_1.jpg  \n",
            "  inflating: dataset/train/healthy/IMG_20210309_133232.jpg  \n",
            "  inflating: dataset/train/healthy/IMG_20210309_133236.jpg  \n",
            "  inflating: dataset/train/healthy/IMG_20210309_133315.jpg  \n",
            "  inflating: dataset/train/healthy/IMG_20210309_133447.jpg  \n",
            "  inflating: dataset/train/healthy/IMG_20210309_133450.jpg  \n",
            "  inflating: dataset/train/healthy/IMG_20210309_133456.jpg  \n",
            "  inflating: dataset/train/healthy/IMG_20210309_133519.jpg  \n",
            "  inflating: dataset/train/healthy/IMG_20210309_133528.jpg  \n",
            "  inflating: dataset/train/healthy/IMG_20210309_133837.jpg  \n",
            "  inflating: dataset/train/healthy/IMG_20210309_133839.jpg  \n",
            "  inflating: dataset/train/healthy/IMG_20210309_134201.jpg  \n",
            "  inflating: dataset/train/healthy/IMG_20210309_134319.jpg  \n",
            "  inflating: dataset/train/healthy/IMG_20210309_134320.jpg  \n",
            "  inflating: dataset/train/healthy/IMG_20210309_134322.jpg  \n",
            "  inflating: dataset/train/healthy/IMG_20210309_134410.jpg  \n",
            "  inflating: dataset/train/healthy/IMG_20210309_134415.jpg  \n",
            "  inflating: dataset/train/healthy/IMG_20210309_134437.jpg  \n",
            "  inflating: dataset/train/healthy/IMG_20210309_134503.jpg  \n",
            "  inflating: dataset/train/healthy/IMG_20210309_134504.jpg  \n",
            "  inflating: dataset/train/healthy/IMG_20210309_134509.jpg  \n",
            "  inflating: dataset/train/healthy/IMG_20210309_134633.jpg  \n",
            "  inflating: dataset/train/healthy/IMG_20210309_134635.jpg  \n",
            "  inflating: dataset/train/healthy/IMG_20210309_134639.jpg  \n",
            "  inflating: dataset/train/healthy/IMG_20210309_134644.jpg  \n",
            "  inflating: dataset/train/healthy/IMG_20210309_134653.jpg  \n",
            "  inflating: dataset/train/healthy/IMG_20210309_134720.jpg  \n",
            "  inflating: dataset/train/healthy/IMG_20210309_134725.jpg  \n",
            "  inflating: dataset/train/healthy/IMG_20210309_134747.jpg  \n",
            "  inflating: dataset/train/healthy/IMG_20210309_134829.jpg  \n",
            "  inflating: dataset/train/healthy/IMG_20210309_134830.jpg  \n",
            "  inflating: dataset/train/healthy/IMG_20210309_134841.jpg  \n",
            "  inflating: dataset/train/healthy/IMG_20210309_134854.jpg  \n",
            "  inflating: dataset/train/healthy/IMG_20210309_134859.jpg  \n",
            "  inflating: dataset/train/healthy/IMG_20210309_135101.jpg  \n",
            "  inflating: dataset/train/healthy/IMG_20210309_135110.jpg  \n",
            "  inflating: dataset/train/healthy/IMG_20210309_135445.jpg  \n",
            "  inflating: dataset/train/healthy/IMG_20210309_140033.jpg  \n",
            "  inflating: dataset/train/healthy/IMG_20210309_140036.jpg  \n",
            "  inflating: dataset/train/healthy/IMG_20210309_140043.jpg  \n",
            "  inflating: dataset/train/healthy/h (1).jpg  \n",
            "  inflating: dataset/train/healthy/h (2).jpg  \n",
            "  inflating: dataset/train/healthy/h (3).jpg  \n",
            "  inflating: dataset/train/healthy/h10 (1).jpg  \n",
            "  inflating: dataset/train/healthy/h10 (3).jpg  \n",
            "  inflating: dataset/train/healthy/h10 (4).jpg  \n",
            "  inflating: dataset/train/healthy/h11 (1).jpg  \n",
            "  inflating: dataset/train/healthy/h11 (2).jpg  \n",
            "  inflating: dataset/train/healthy/h11 (3).jpg  \n",
            "  inflating: dataset/train/healthy/h12 (2).jpg  \n",
            "  inflating: dataset/train/healthy/h13 (1).jpg  \n",
            "  inflating: dataset/train/healthy/h13 (2).jpg  \n",
            "  inflating: dataset/train/healthy/h14 (1).jpg  \n",
            "  inflating: dataset/train/healthy/h14 (2).jpg  \n",
            "  inflating: dataset/train/healthy/h14 (3).jpg  \n",
            "  inflating: dataset/train/healthy/h14 (4).jpg  \n",
            "  inflating: dataset/train/healthy/h14 (5).jpg  \n",
            "  inflating: dataset/train/healthy/h2.jpg  \n",
            "  inflating: dataset/train/healthy/h3.jpg  \n",
            "  inflating: dataset/train/healthy/h4 (1).jpg  \n",
            "  inflating: dataset/train/healthy/h4 (2).jpg  \n",
            "  inflating: dataset/train/healthy/h4 (3).jpg  \n",
            "  inflating: dataset/train/healthy/h6 (1).jpg  \n",
            "  inflating: dataset/train/healthy/h6 (2).jpg  \n",
            "  inflating: dataset/train/healthy/h6 (3).jpg  \n",
            "  inflating: dataset/train/healthy/h6 (4).jpg  \n",
            "  inflating: dataset/train/healthy/h6 (5).jpg  \n",
            "  inflating: dataset/train/healthy/h6 (6).jpg  \n",
            "  inflating: dataset/train/healthy/h6 (7).jpg  \n",
            "  inflating: dataset/train/healthy/h7 (1).jpg  \n",
            "  inflating: dataset/train/healthy/h7 (2).jpg  \n",
            "  inflating: dataset/train/healthy/h7 (3).jpg  \n",
            "  inflating: dataset/train/healthy/h9 (1).jpg  \n",
            "  inflating: dataset/train/healthy/h9 (2).jpg  \n",
            "  inflating: dataset/train/pestalotiopsis/IMG_20210309_123601.jpg  \n",
            "  inflating: dataset/train/pestalotiopsis/IMG_20210309_123628.jpg  \n",
            "  inflating: dataset/train/pestalotiopsis/IMG_20210309_123631.jpg  \n",
            "  inflating: dataset/train/pestalotiopsis/IMG_20210309_123644.jpg  \n",
            "  inflating: dataset/train/pestalotiopsis/IMG_20210309_123703.jpg  \n",
            "  inflating: dataset/train/pestalotiopsis/IMG_20210309_123739.jpg  \n",
            "  inflating: dataset/train/pestalotiopsis/IMG_20210309_123752.jpg  \n",
            "  inflating: dataset/train/pestalotiopsis/IMG_20210309_123755.jpg  \n",
            "  inflating: dataset/train/pestalotiopsis/IMG_20210309_123812.jpg  \n",
            "  inflating: dataset/train/pestalotiopsis/IMG_20210309_124020.jpg  \n",
            "  inflating: dataset/train/pestalotiopsis/IMG_20210309_124022.jpg  \n",
            "  inflating: dataset/train/pestalotiopsis/IMG_20210309_124028.jpg  \n",
            "  inflating: dataset/train/pestalotiopsis/IMG_20210309_124102.jpg  \n",
            "  inflating: dataset/train/pestalotiopsis/IMG_20210309_124110.jpg  \n",
            "  inflating: dataset/train/pestalotiopsis/IMG_20210309_124132.jpg  \n",
            "  inflating: dataset/train/pestalotiopsis/IMG_20210309_124145.jpg  \n",
            "  inflating: dataset/train/pestalotiopsis/IMG_20210309_124152.jpg  \n",
            "  inflating: dataset/train/pestalotiopsis/IMG_20210309_124154.jpg  \n",
            "  inflating: dataset/train/pestalotiopsis/IMG_20210309_124623.jpg  \n",
            "  inflating: dataset/train/pestalotiopsis/IMG_20210309_124646.jpg  \n",
            "  inflating: dataset/train/pestalotiopsis/IMG_20210309_124648.jpg  \n",
            "  inflating: dataset/train/pestalotiopsis/IMG_20210309_124811.jpg  \n",
            "  inflating: dataset/train/pestalotiopsis/IMG_20210309_124813.jpg  \n",
            "  inflating: dataset/train/pestalotiopsis/IMG_20210309_124820.jpg  \n",
            "  inflating: dataset/train/pestalotiopsis/IMG_20210309_124834.jpg  \n",
            "  inflating: dataset/train/pestalotiopsis/IMG_20210309_124841.jpg  \n",
            "  inflating: dataset/train/pestalotiopsis/IMG_20210309_124843.jpg  \n",
            "  inflating: dataset/train/pestalotiopsis/IMG_20210309_124843_1.jpg  \n",
            "  inflating: dataset/train/pestalotiopsis/IMG_20210309_124918.jpg  \n",
            "  inflating: dataset/train/pestalotiopsis/IMG_20210309_124938.jpg  \n",
            "  inflating: dataset/train/pestalotiopsis/IMG_20210309_124940.jpg  \n",
            "  inflating: dataset/train/pestalotiopsis/IMG_20210309_124955.jpg  \n",
            "  inflating: dataset/train/pestalotiopsis/IMG_20210309_125019.jpg  \n",
            "  inflating: dataset/train/pestalotiopsis/IMG_20210309_125024.jpg  \n",
            "  inflating: dataset/train/pestalotiopsis/IMG_20210309_125031.jpg  \n",
            "  inflating: dataset/train/pestalotiopsis/IMG_20210309_125046.jpg  \n",
            "  inflating: dataset/train/pestalotiopsis/IMG_20210309_125049.jpg  \n",
            "  inflating: dataset/train/pestalotiopsis/IMG_20210309_125054.jpg  \n",
            "  inflating: dataset/train/pestalotiopsis/IMG_20210309_125059.jpg  \n",
            "  inflating: dataset/train/pestalotiopsis/IMG_20210309_125104.jpg  \n",
            "  inflating: dataset/train/pestalotiopsis/IMG_20210309_130950.jpg  \n",
            "  inflating: dataset/train/pestalotiopsis/IMG_20210309_130952.jpg  \n",
            "  inflating: dataset/train/pestalotiopsis/IMG_20210309_131210.jpg  \n",
            "  inflating: dataset/train/pestalotiopsis/IMG_20210309_131221.jpg  \n",
            "  inflating: dataset/train/pestalotiopsis/IMG_20210309_131438.jpg  \n",
            "  inflating: dataset/train/pestalotiopsis/IMG_20210309_131441.jpg  \n",
            "  inflating: dataset/train/pestalotiopsis/IMG_20210309_131456.jpg  \n",
            "  inflating: dataset/train/pestalotiopsis/IMG_20210309_131510.jpg  \n",
            "  inflating: dataset/train/pestalotiopsis/IMG_20210309_131531.jpg  \n",
            "  inflating: dataset/train/pestalotiopsis/IMG_20210309_131532.jpg  \n",
            "  inflating: dataset/train/pestalotiopsis/IMG_20210309_131534.jpg  \n",
            "  inflating: dataset/train/pestalotiopsis/IMG_20210309_131537.jpg  \n",
            "  inflating: dataset/train/pestalotiopsis/IMG_20210309_131540.jpg  \n",
            "  inflating: dataset/train/pestalotiopsis/IMG_20210309_131542.jpg  \n",
            "  inflating: dataset/train/pestalotiopsis/IMG_20210309_131544.jpg  \n",
            "  inflating: dataset/train/pestalotiopsis/IMG_20210309_131550.jpg  \n",
            "  inflating: dataset/train/pestalotiopsis/IMG_20210309_131552.jpg  \n",
            "  inflating: dataset/train/pestalotiopsis/IMG_20210309_131554.jpg  \n",
            "  inflating: dataset/train/pestalotiopsis/IMG_20210309_131628.jpg  \n",
            "  inflating: dataset/train/pestalotiopsis/IMG_20210309_131633.jpg  \n",
            "  inflating: dataset/train/pestalotiopsis/IMG_20210309_131635.jpg  \n",
            "  inflating: dataset/train/pestalotiopsis/IMG_20210309_131639.jpg  \n",
            "  inflating: dataset/train/pestalotiopsis/IMG_20210309_131645.jpg  \n",
            "  inflating: dataset/train/pestalotiopsis/IMG_20210309_131652.jpg  \n",
            "  inflating: dataset/train/pestalotiopsis/IMG_20210309_131657.jpg  \n",
            "  inflating: dataset/train/pestalotiopsis/IMG_20210309_131708.jpg  \n",
            "  inflating: dataset/train/pestalotiopsis/IMG_20210309_131739.jpg  \n",
            "  inflating: dataset/train/pestalotiopsis/IMG_20210309_131801.jpg  \n",
            "  inflating: dataset/train/pestalotiopsis/IMG_20210309_131803.jpg  \n",
            "  inflating: dataset/train/pestalotiopsis/IMG_20210309_131809.jpg  \n",
            "  inflating: dataset/train/pestalotiopsis/IMG_20210309_131840.jpg  \n",
            "  inflating: dataset/train/pestalotiopsis/IMG_20210309_131842.jpg  \n",
            "  inflating: dataset/train/pestalotiopsis/IMG_20210309_131954.jpg  \n",
            "  inflating: dataset/train/pestalotiopsis/IMG_20210309_131958.jpg  \n",
            "  inflating: dataset/train/pestalotiopsis/IMG_20210309_132005.jpg  \n",
            "  inflating: dataset/train/pestalotiopsis/IMG_20210309_132034.jpg  \n",
            "  inflating: dataset/train/pestalotiopsis/IMG_20210309_132038.jpg  \n",
            "  inflating: dataset/train/pestalotiopsis/IMG_20210309_132118.jpg  \n",
            "  inflating: dataset/train/pestalotiopsis/IMG_20210309_132131.jpg  \n",
            "  inflating: dataset/train/pestalotiopsis/IMG_20210309_132152.jpg  \n",
            "  inflating: dataset/train/pestalotiopsis/IMG_20210309_132155.jpg  \n",
            "  inflating: dataset/train/pestalotiopsis/IMG_20210309_132204.jpg  \n",
            "  inflating: dataset/train/pestalotiopsis/IMG_20210309_132214.jpg  \n",
            "  inflating: dataset/train/pestalotiopsis/IMG_20210309_132229.jpg  \n",
            "  inflating: dataset/train/pestalotiopsis/IMG_20210309_132229_1.jpg  \n",
            "  inflating: dataset/train/pestalotiopsis/IMG_20210309_132231.jpg  \n",
            "  inflating: dataset/train/pestalotiopsis/IMG_20210309_132234.jpg  \n",
            "  inflating: dataset/train/pestalotiopsis/IMG_20210309_132301.jpg  \n",
            "  inflating: dataset/train/pestalotiopsis/IMG_20210309_132303.jpg  \n",
            "  inflating: dataset/train/pestalotiopsis/IMG_20210309_132305.jpg  \n",
            "  inflating: dataset/train/pestalotiopsis/IMG_20210309_132331.jpg  \n",
            "  inflating: dataset/train/pestalotiopsis/IMG_20210309_132354.jpg  \n",
            "  inflating: dataset/train/pestalotiopsis/IMG_20210309_132403.jpg  \n",
            "  inflating: dataset/train/pestalotiopsis/IMG_20210309_132416.jpg  \n",
            "  inflating: dataset/train/pestalotiopsis/IMG_20210309_132418.jpg  \n",
            "  inflating: dataset/train/pestalotiopsis/IMG_20210309_132418_1.jpg  \n",
            "  inflating: dataset/train/pestalotiopsis/IMG_20210309_132420.jpg  \n",
            "  inflating: dataset/train/pestalotiopsis/IMG_20210309_133045.jpg  \n",
            "  inflating: dataset/train/pestalotiopsis/IMG_20210309_133306.jpg  \n",
            "  inflating: dataset/train/pestalotiopsis/IMG_20210309_133337.jpg  \n",
            "  inflating: dataset/train/pestalotiopsis/IMG_20210309_133347.jpg  \n",
            "  inflating: dataset/train/pestalotiopsis/IMG_20210309_133349.jpg  \n",
            "  inflating: dataset/train/pestalotiopsis/IMG_20210309_133351.jpg  \n",
            "  inflating: dataset/train/pestalotiopsis/IMG_20210309_133359.jpg  \n",
            "  inflating: dataset/train/pestalotiopsis/IMG_20210309_133407.jpg  \n",
            "  inflating: dataset/train/pestalotiopsis/IMG_20210309_133412.jpg  \n",
            "  inflating: dataset/train/pestalotiopsis/IMG_20210309_133421.jpg  \n",
            "  inflating: dataset/train/pestalotiopsis/IMG_20210309_133424.jpg  \n",
            "  inflating: dataset/train/pestalotiopsis/IMG_20210309_133437.jpg  \n",
            "  inflating: dataset/train/pestalotiopsis/IMG_20210309_133439.jpg  \n",
            "  inflating: dataset/train/pestalotiopsis/IMG_20210309_133516.jpg  \n",
            "  inflating: dataset/train/pestalotiopsis/IMG_20210309_133524.jpg  \n",
            "  inflating: dataset/train/pestalotiopsis/IMG_20210309_133532.jpg  \n",
            "  inflating: dataset/train/pestalotiopsis/IMG_20210309_133537.jpg  \n",
            "  inflating: dataset/train/pestalotiopsis/IMG_20210309_133555.jpg  \n",
            "  inflating: dataset/train/pestalotiopsis/IMG_20210309_133828.jpg  \n",
            "  inflating: dataset/train/pestalotiopsis/IMG_20210309_134105.jpg  \n",
            "  inflating: dataset/train/pestalotiopsis/IMG_20210309_134118.jpg  \n",
            "  inflating: dataset/train/pestalotiopsis/IMG_20210309_134120.jpg  \n",
            "  inflating: dataset/train/pestalotiopsis/IMG_20210309_134128.jpg  \n",
            "  inflating: dataset/train/pestalotiopsis/IMG_20210309_134137.jpg  \n",
            "  inflating: dataset/train/pestalotiopsis/IMG_20210309_134216.jpg  \n",
            "  inflating: dataset/train/pestalotiopsis/IMG_20210309_134220.jpg  \n",
            "  inflating: dataset/train/pestalotiopsis/IMG_20210309_134231.jpg  \n",
            "  inflating: dataset/train/pestalotiopsis/IMG_20210309_134235.jpg  \n",
            "  inflating: dataset/train/pestalotiopsis/IMG_20210309_134302.jpg  \n",
            "  inflating: dataset/train/pestalotiopsis/IMG_20210309_134304.jpg  \n",
            "  inflating: dataset/train/pestalotiopsis/IMG_20210309_134344.jpg  \n",
            "  inflating: dataset/train/pestalotiopsis/IMG_20210309_134346.jpg  \n",
            "  inflating: dataset/train/pestalotiopsis/IMG_20210309_134354.jpg  \n",
            "  inflating: dataset/train/pestalotiopsis/IMG_20210309_134443.jpg  \n",
            "  inflating: dataset/train/pestalotiopsis/IMG_20210309_134449.jpg  \n",
            "  inflating: dataset/train/pestalotiopsis/IMG_20210309_134454.jpg  \n",
            "  inflating: dataset/train/sigatoka/IMG_20210311_102740_1.jpg  \n",
            "  inflating: dataset/train/sigatoka/IMG_20210311_102758.jpg  \n",
            "  inflating: dataset/train/sigatoka/IMG_20210311_102803_1.jpg  \n",
            "  inflating: dataset/train/sigatoka/IMG_20210311_102809.jpg  \n",
            "  inflating: dataset/train/sigatoka/IMG_20210311_102815_1.jpg  \n",
            "  inflating: dataset/train/sigatoka/IMG_20210311_102911_1.jpg  \n",
            "  inflating: dataset/train/sigatoka/IMG_20210311_102914_1.jpg  \n",
            "  inflating: dataset/train/sigatoka/IMG_20210311_102922.jpg  \n",
            "  inflating: dataset/train/sigatoka/IMG_20210311_102931_1.jpg  \n",
            "  inflating: dataset/train/sigatoka/IMG_20210311_102937.jpg  \n",
            "  inflating: dataset/train/sigatoka/IMG_20210311_102942_1.jpg  \n",
            "  inflating: dataset/train/sigatoka/IMG_20210311_103009_1.jpg  \n",
            "  inflating: dataset/train/sigatoka/IMG_20210311_103012.jpg  \n",
            "  inflating: dataset/train/sigatoka/IMG_20210311_103019.jpg  \n",
            "  inflating: dataset/train/sigatoka/IMG_20210311_103023_1.jpg  \n",
            "  inflating: dataset/train/sigatoka/IMG_20210311_103040_1.jpg  \n",
            "  inflating: dataset/train/sigatoka/IMG_20210311_103050.jpg  \n",
            "  inflating: dataset/train/sigatoka/IMG_20210311_103052.jpg  \n",
            "  inflating: dataset/train/sigatoka/IMG_20210311_103059.jpg  \n",
            "  inflating: dataset/train/sigatoka/IMG_20210311_103119_1.jpg  \n",
            "  inflating: dataset/train/sigatoka/IMG_20210311_103125.jpg  \n",
            "  inflating: dataset/train/sigatoka/IMG_20210311_103130.jpg  \n",
            "  inflating: dataset/train/sigatoka/IMG_20210311_103144.jpg  \n",
            "  inflating: dataset/train/sigatoka/IMG_20210311_103208_1.jpg  \n",
            "  inflating: dataset/train/sigatoka/IMG_20210311_103217.jpg  \n",
            "  inflating: dataset/train/sigatoka/IMG_20210311_103225_1.jpg  \n",
            "  inflating: dataset/train/sigatoka/IMG_20210311_103232.jpg  \n",
            "  inflating: dataset/train/sigatoka/IMG_20210311_103244_1.jpg  \n",
            "  inflating: dataset/train/sigatoka/IMG_20210311_103247_1.jpg  \n",
            "  inflating: dataset/train/sigatoka/IMG_20210311_103254.jpg  \n",
            "  inflating: dataset/train/sigatoka/IMG_20210311_103259_1.jpg  \n",
            "  inflating: dataset/train/sigatoka/IMG_20210311_103342_1.jpg  \n",
            "  inflating: dataset/train/sigatoka/IMG_20210311_103351_1.jpg  \n",
            "  inflating: dataset/train/sigatoka/IMG_20210311_103406.jpg  \n",
            "  inflating: dataset/train/sigatoka/IMG_20210311_103413_1.jpg  \n",
            "  inflating: dataset/train/sigatoka/IMG_20210311_103423_1.jpg  \n",
            "  inflating: dataset/train/sigatoka/IMG_20210311_103442_1.jpg  \n",
            "  inflating: dataset/train/sigatoka/IMG_20210311_103449.jpg  \n",
            "  inflating: dataset/train/sigatoka/IMG_20210311_103454_1.jpg  \n",
            "  inflating: dataset/train/sigatoka/IMG_20210311_103518_1.jpg  \n",
            "  inflating: dataset/train/sigatoka/IMG_20210311_103536.jpg  \n",
            "  inflating: dataset/train/sigatoka/IMG_20210311_103544.jpg  \n",
            "  inflating: dataset/train/sigatoka/IMG_20210311_103553_1.jpg  \n",
            "  inflating: dataset/train/sigatoka/IMG_20210311_103614.jpg  \n",
            "  inflating: dataset/train/sigatoka/IMG_20210311_103624_1.jpg  \n",
            "  inflating: dataset/train/sigatoka/IMG_20210311_103630_1.jpg  \n",
            "  inflating: dataset/train/sigatoka/IMG_20210311_103635_1.jpg  \n",
            "  inflating: dataset/train/sigatoka/IMG_20210311_103750_1.jpg  \n",
            "  inflating: dataset/train/sigatoka/IMG_20210311_103754_1.jpg  \n",
            "  inflating: dataset/train/sigatoka/IMG_20210311_103759_1.jpg  \n",
            "  inflating: dataset/train/sigatoka/IMG_20210311_103833.jpg  \n",
            "  inflating: dataset/train/sigatoka/IMG_20210311_103836.jpg  \n",
            "  inflating: dataset/train/sigatoka/IMG_20210311_103844.jpg  \n",
            "  inflating: dataset/train/sigatoka/IMG_20210311_103848.jpg  \n",
            "  inflating: dataset/train/sigatoka/IMG_20210311_103931_1.jpg  \n",
            "  inflating: dataset/train/sigatoka/IMG_20210311_103944_1.jpg  \n",
            "  inflating: dataset/train/sigatoka/IMG_20210311_104033_1.jpg  \n",
            "  inflating: dataset/train/sigatoka/IMG_20210311_104037_1.jpg  \n",
            "  inflating: dataset/train/sigatoka/IMG_20210311_104041.jpg  \n",
            "  inflating: dataset/train/sigatoka/IMG_20210311_104054.jpg  \n",
            "  inflating: dataset/train/sigatoka/IMG_20210311_104057_1.jpg  \n",
            "  inflating: dataset/train/sigatoka/IMG_20210311_104102_1.jpg  \n",
            "  inflating: dataset/train/sigatoka/IMG_20210311_104106.jpg  \n",
            "  inflating: dataset/train/sigatoka/IMG_20210311_104107_1.jpg  \n",
            "  inflating: dataset/train/sigatoka/IMG_20210311_104112_1.jpg  \n",
            "  inflating: dataset/train/sigatoka/IMG_20210311_104128_1.jpg  \n",
            "  inflating: dataset/train/sigatoka/IMG_20210311_104144_1.jpg  \n",
            "  inflating: dataset/train/sigatoka/IMG_20210311_104226.jpg  \n",
            "  inflating: dataset/train/sigatoka/IMG_20210311_104231.jpg  \n",
            "  inflating: dataset/train/sigatoka/IMG_20210311_104236.jpg  \n",
            "  inflating: dataset/train/sigatoka/IMG_20210311_104258_1.jpg  \n",
            "  inflating: dataset/train/sigatoka/IMG_20210311_104317.jpg  \n",
            "  inflating: dataset/train/sigatoka/IMG_20210311_104320_1.jpg  \n",
            "  inflating: dataset/train/sigatoka/IMG_20210311_104337.jpg  \n",
            "  inflating: dataset/train/sigatoka/IMG_20210311_104341.jpg  \n",
            "  inflating: dataset/train/sigatoka/IMG_20210311_104348_1.jpg  \n",
            "  inflating: dataset/train/sigatoka/IMG_20210311_104352.jpg  \n",
            "  inflating: dataset/train/sigatoka/IMG_20210311_104357_1.jpg  \n",
            "  inflating: dataset/train/sigatoka/IMG_20210311_104402.jpg  \n",
            "  inflating: dataset/train/sigatoka/IMG_20210311_104409_1.jpg  \n",
            "  inflating: dataset/train/sigatoka/IMG_20210311_104416_1.jpg  \n",
            "  inflating: dataset/train/sigatoka/IMG_20210311_104425_1.jpg  \n",
            "  inflating: dataset/train/sigatoka/IMG_20210311_104432_1.jpg  \n",
            "  inflating: dataset/train/sigatoka/IMG_20210311_104435_1.jpg  \n",
            "  inflating: dataset/train/sigatoka/IMG_20210311_104439_1.jpg  \n",
            "  inflating: dataset/train/sigatoka/IMG_20210311_104453.jpg  \n",
            "  inflating: dataset/train/sigatoka/IMG_20210311_104455_1.jpg  \n",
            "  inflating: dataset/train/sigatoka/IMG_20210311_104500.jpg  \n",
            "  inflating: dataset/train/sigatoka/IMG_20210311_104520_1.jpg  \n",
            "  inflating: dataset/train/sigatoka/IMG_20210311_104539_1.jpg  \n",
            "  inflating: dataset/train/sigatoka/IMG_20210311_104542_1.jpg  \n",
            "  inflating: dataset/train/sigatoka/IMG_20210311_104547.jpg  \n",
            "  inflating: dataset/train/sigatoka/IMG_20210311_104551.jpg  \n",
            "  inflating: dataset/train/sigatoka/IMG_20210311_104738.jpg  \n",
            "  inflating: dataset/train/sigatoka/IMG_20210311_104743_1.jpg  \n",
            "  inflating: dataset/train/sigatoka/IMG_20210311_104746_1.jpg  \n",
            "  inflating: dataset/train/sigatoka/IMG_20210311_104754.jpg  \n",
            "  inflating: dataset/train/sigatoka/IMG_20210311_104758.jpg  \n",
            "  inflating: dataset/train/sigatoka/IMG_20210311_104808_1.jpg  \n",
            "  inflating: dataset/train/sigatoka/IMG_20210311_104812.jpg  \n",
            "  inflating: dataset/train/sigatoka/IMG_20210311_104818_1.jpg  \n",
            "  inflating: dataset/train/sigatoka/IMG_20210311_104826_1.jpg  \n",
            "  inflating: dataset/train/sigatoka/IMG_20210311_104844_1.jpg  \n",
            "  inflating: dataset/train/sigatoka/IMG_20210311_104910_1.jpg  \n",
            "  inflating: dataset/train/sigatoka/IMG_20210311_104914.jpg  \n",
            "  inflating: dataset/train/sigatoka/IMG_20210311_104917.jpg  \n",
            "  inflating: dataset/train/sigatoka/IMG_20210311_104921_1.jpg  \n",
            "  inflating: dataset/train/sigatoka/IMG_20210311_104924_1.jpg  \n",
            "  inflating: dataset/train/sigatoka/IMG_20210311_104927_1.jpg  \n",
            "  inflating: dataset/train/sigatoka/IMG_20210311_104931.jpg  \n",
            "  inflating: dataset/train/sigatoka/IMG_20210311_104936.jpg  \n",
            "  inflating: dataset/train/sigatoka/IMG_20210311_104941_1.jpg  \n",
            "  inflating: dataset/train/sigatoka/IMG_20210311_104952.jpg  \n",
            "  inflating: dataset/train/sigatoka/IMG_20210311_105001_1.jpg  \n",
            "  inflating: dataset/train/sigatoka/IMG_20210311_105006.jpg  \n",
            "  inflating: dataset/train/sigatoka/IMG_20210311_105009.jpg  \n",
            "  inflating: dataset/train/sigatoka/IMG_20210311_105012_1.jpg  \n",
            "  inflating: dataset/train/sigatoka/IMG_20210311_105116.jpg  \n",
            "  inflating: dataset/train/sigatoka/IMG_20210311_105118_1.jpg  \n",
            "  inflating: dataset/train/sigatoka/IMG_20210311_105126.jpg  \n",
            "  inflating: dataset/train/sigatoka/IMG_20210311_105131_1.jpg  \n",
            "  inflating: dataset/train/sigatoka/IMG_20210311_105139.jpg  \n",
            "  inflating: dataset/train/sigatoka/IMG_20210311_105146_1.jpg  \n",
            "  inflating: dataset/train/sigatoka/IMG_20210311_105359_1.jpg  \n",
            "  inflating: dataset/train/sigatoka/IMG_20210311_105405.jpg  \n",
            "  inflating: dataset/train/sigatoka/IMG_20210311_105408_1.jpg  \n",
            "  inflating: dataset/train/sigatoka/IMG_20210311_105419.jpg  \n",
            "  inflating: dataset/train/sigatoka/IMG_20210311_105431_1.jpg  \n",
            "  inflating: dataset/train/sigatoka/IMG_20210311_105436_1.jpg  \n",
            "  inflating: dataset/train/sigatoka/IMG_20210311_105445_1.jpg  \n",
            "  inflating: dataset/train/sigatoka/IMG_20210311_105501_1.jpg  \n",
            "  inflating: dataset/train/sigatoka/IMG_20210311_105523_1.jpg  \n",
            "  inflating: dataset/train/sigatoka/IMG_20210311_105534_1.jpg  \n",
            "  inflating: dataset/train/sigatoka/IMG_20210311_105552_1.jpg  \n",
            "  inflating: dataset/train/sigatoka/IMG_20210311_105556_1.jpg  \n",
            "  inflating: dataset/train/sigatoka/IMG_20210311_105603_1.jpg  \n",
            "  inflating: dataset/train/sigatoka/IMG_20210311_105608_1.jpg  \n",
            "  inflating: dataset/train/sigatoka/IMG_20210311_105613.jpg  \n",
            "  inflating: dataset/train/sigatoka/IMG_20210311_105618_1.jpg  \n",
            "  inflating: dataset/train/sigatoka/IMG_20210311_120422.jpg  \n",
            "  inflating: dataset/train/sigatoka/IMG_20210311_120428_1.jpg  \n",
            "  inflating: dataset/train/sigatoka/IMG_20210311_120436_1.jpg  \n",
            "  inflating: dataset/train/sigatoka/IMG_20210311_120443_1.jpg  \n",
            "  inflating: dataset/train/sigatoka/IMG_20210311_120449.jpg  \n",
            "  inflating: dataset/train/sigatoka/IMG_20210311_120455_1.jpg  \n",
            "  inflating: dataset/train/sigatoka/IMG_20210311_120509_1.jpg  \n",
            "  inflating: dataset/train/sigatoka/IMG_20210311_120538_1.jpg  \n",
            "  inflating: dataset/train/sigatoka/IMG_20210311_120544.jpg  \n",
            "  inflating: dataset/train/sigatoka/IMG_20210311_120553_1.jpg  \n",
            "  inflating: dataset/train/sigatoka/IMG_20210311_120620.jpg  \n",
            "  inflating: dataset/train/sigatoka/IMG_20210311_120650_1.jpg  \n",
            "  inflating: dataset/train/sigatoka/IMG_20210311_120704_1.jpg  \n",
            "  inflating: dataset/train/sigatoka/IMG_20210311_120956_1.jpg  \n",
            "  inflating: dataset/train/sigatoka/IMG_20210311_120959.jpg  \n",
            "  inflating: dataset/train/sigatoka/IMG_20210311_121003_1.jpg  \n",
            "  inflating: dataset/train/sigatoka/IMG_20210311_121020_1.jpg  \n",
            "  inflating: dataset/train/sigatoka/IMG_20210311_121039.jpg  \n",
            "  inflating: dataset/train/sigatoka/IMG_20210311_121048.jpg  \n",
            "  inflating: dataset/train/sigatoka/IMG_20210311_121059_1.jpg  \n",
            "  inflating: dataset/train/sigatoka/IMG_20210311_121228_1.jpg  \n",
            "  inflating: dataset/train/sigatoka/IMG_20210311_121243_1.jpg  \n",
            "  inflating: dataset/train/sigatoka/IMG_20210311_121300.jpg  \n",
            "  inflating: dataset/train/sigatoka/IMG_20210311_121309_1.jpg  \n",
            "  inflating: dataset/train/sigatoka/IMG_20210311_121320_1.jpg  \n",
            "  inflating: dataset/train/sigatoka/IMG_20210311_121445_1.jpg  \n",
            "  inflating: dataset/train/sigatoka/IMG_20210311_121453_1.jpg  \n",
            "  inflating: dataset/train/sigatoka/IMG_20210311_121500_1.jpg  \n",
            "  inflating: dataset/train/sigatoka/IMG_20210311_121600.jpg  \n",
            "  inflating: dataset/train/sigatoka/IMG_20210311_121603_1.jpg  \n",
            "  inflating: dataset/train/sigatoka/IMG_20210311_121610.jpg  \n",
            "  inflating: dataset/train/sigatoka/IMG_20210311_121621_1.jpg  \n",
            "  inflating: dataset/train/sigatoka/IMG_20210311_121632.jpg  \n",
            "  inflating: dataset/train/sigatoka/IMG_20210311_121649.jpg  \n",
            "  inflating: dataset/train/sigatoka/IMG_20210311_121730_1.jpg  \n",
            "  inflating: dataset/train/sigatoka/IMG_20210311_121738_1.jpg  \n",
            "  inflating: dataset/train/sigatoka/IMG_20210311_121752.jpg  \n",
            "  inflating: dataset/train/sigatoka/IMG_20210311_121802.jpg  \n",
            "  inflating: dataset/train/sigatoka/IMG_20210311_121833.jpg  \n",
            "  inflating: dataset/train/sigatoka/IMG_20210311_121912.jpg  \n",
            "  inflating: dataset/train/sigatoka/IMG_20210311_121919.jpg  \n",
            "  inflating: dataset/train/sigatoka/IMG_20210311_122018.jpg  \n",
            "  inflating: dataset/train/sigatoka/IMG_20210311_122127.jpg  \n",
            "  inflating: dataset/train/sigatoka/IMG_20210311_122137.jpg  \n",
            "  inflating: dataset/train/sigatoka/IMG_20210311_122159.jpg  \n",
            "  inflating: dataset/train/sigatoka/IMG_20210311_122257.jpg  \n",
            "  inflating: dataset/train/sigatoka/IMG_20210311_122343.jpg  \n",
            "  inflating: dataset/train/sigatoka/IMG_20210311_122422_1.jpg  \n",
            "  inflating: dataset/train/sigatoka/IMG_20210311_122426_1.jpg  \n",
            "  inflating: dataset/train/sigatoka/IMG_20210311_122431_1.jpg  \n",
            "  inflating: dataset/train/sigatoka/IMG_20210311_122607_1.jpg  \n",
            "  inflating: dataset/train/sigatoka/IMG_20210311_122617.jpg  \n",
            "  inflating: dataset/train/sigatoka/IMG_20210311_122619_1.jpg  \n",
            "  inflating: dataset/train/sigatoka/IMG_20210311_122646.jpg  \n",
            "  inflating: dataset/train/sigatoka/IMG_20210311_122712.jpg  \n",
            "  inflating: dataset/train/sigatoka/IMG_20210311_122718.jpg  \n",
            "  inflating: dataset/train/sigatoka/IMG_20210311_122812_1.jpg  \n",
            "  inflating: dataset/train/sigatoka/IMG_20210311_122918.jpg  \n",
            "  inflating: dataset/train/sigatoka/IMG_20210311_122938.jpg  \n",
            "  inflating: dataset/train/sigatoka/IMG_20210311_122943_1.jpg  \n",
            "  inflating: dataset/train/sigatoka/IMG_20210311_123000_1.jpg  \n",
            "  inflating: dataset/train/sigatoka/IMG_20210311_123009_1.jpg  \n",
            "  inflating: dataset/train/sigatoka/IMG_20210311_123018_1.jpg  \n",
            "  inflating: dataset/train/sigatoka/IMG_20210311_123027.jpg  \n",
            "  inflating: dataset/train/sigatoka/IMG_20210311_123034_1.jpg  \n",
            "  inflating: dataset/train/sigatoka/IMG_20210311_123134.jpg  \n",
            "  inflating: dataset/train/sigatoka/IMG_20210311_123138_1.jpg  \n",
            "  inflating: dataset/train/sigatoka/IMG_20210311_123154.jpg  \n",
            "  inflating: dataset/train/sigatoka/IMG_20210311_123200_1.jpg  \n",
            "  inflating: dataset/train/sigatoka/IMG_20210311_123209_1.jpg  \n",
            "  inflating: dataset/train/sigatoka/IMG_20210311_123218_1.jpg  \n",
            "  inflating: dataset/train/sigatoka/IMG_20210311_123227_1.jpg  \n",
            "  inflating: dataset/train/sigatoka/IMG_20210311_123308.jpg  \n",
            "  inflating: dataset/train/sigatoka/IMG_20210311_123310.jpg  \n",
            "  inflating: dataset/train/sigatoka/IMG_20210311_123315.jpg  \n",
            "  inflating: dataset/train/sigatoka/IMG_20210311_123327_1.jpg  \n",
            "  inflating: dataset/train/sigatoka/IMG_20210311_123333.jpg  \n",
            "  inflating: dataset/train/sigatoka/IMG_20210311_123336_1.jpg  \n",
            "  inflating: dataset/train/sigatoka/IMG_20210311_123353_1.jpg  \n",
            "  inflating: dataset/train/sigatoka/IMG_20210311_123408_1.jpg  \n",
            "  inflating: dataset/train/sigatoka/IMG_20210311_123416_1.jpg  \n",
            "  inflating: dataset/train/sigatoka/IMG_20210311_123458.jpg  \n",
            "  inflating: dataset/train/sigatoka/IMG_20210311_123505_1.jpg  \n",
            "  inflating: dataset/train/sigatoka/IMG_20210311_123512.jpg  \n",
            "  inflating: dataset/train/sigatoka/IMG_20210311_123540_1.jpg  \n",
            "  inflating: dataset/train/sigatoka/IMG_20210311_123643.jpg  \n",
            "  inflating: dataset/train/sigatoka/IMG_20210311_123657.jpg  \n",
            "  inflating: dataset/train/sigatoka/IMG_20210311_123702.jpg  \n",
            "  inflating: dataset/train/sigatoka/IMG_20210311_123711.jpg  \n",
            "  inflating: dataset/train/sigatoka/IMG_20210311_123722_1.jpg  \n",
            "  inflating: dataset/train/sigatoka/IMG_20210311_123803.jpg  \n",
            "  inflating: dataset/train/sigatoka/IMG_20210311_123811.jpg  \n",
            "  inflating: dataset/train/sigatoka/IMG_20210311_123835_1.jpg  \n",
            "  inflating: dataset/train/sigatoka/IMG_20210311_123845.jpg  \n",
            "  inflating: dataset/train/sigatoka/IMG_20210311_123852_1.jpg  \n",
            "  inflating: dataset/train/sigatoka/IMG_20210311_123931_1.jpg  \n",
            "  inflating: dataset/train/sigatoka/IMG_20210311_123935_1.jpg  \n",
            "  inflating: dataset/train/sigatoka/IMG_20210311_124012.jpg  \n",
            "  inflating: dataset/train/sigatoka/IMG_20210311_124037.jpg  \n",
            "  inflating: dataset/train/sigatoka/IMG_20210311_124042_1.jpg  \n",
            "  inflating: dataset/train/sigatoka/IMG_20210311_124047.jpg  \n",
            "  inflating: dataset/train/sigatoka/IMG_20210311_124054_1.jpg  \n",
            "  inflating: dataset/train/sigatoka/IMG_20210311_124107_1.jpg  \n",
            "  inflating: dataset/train/sigatoka/IMG_20210311_124137.jpg  \n",
            "  inflating: dataset/train/sigatoka/IMG_20210311_124224.jpg  \n",
            "  inflating: dataset/train/sigatoka/IMG_20210311_124233.jpg  \n",
            "  inflating: dataset/train/sigatoka/IMG_20210311_124247_1.jpg  \n",
            "  inflating: dataset/train/sigatoka/IMG_20210311_124248_1.jpg  \n",
            "  inflating: dataset/train/sigatoka/IMG_20210311_124256_1.jpg  \n",
            "  inflating: dataset/train/sigatoka/IMG_20210311_124315_1.jpg  \n",
            "  inflating: dataset/train/sigatoka/IMG_20210311_124324_BURST1.jpg  \n",
            "  inflating: dataset/train/sigatoka/IMG_20210311_124335_1.jpg  \n",
            "  inflating: dataset/train/sigatoka/IMG_20210311_124346_1.jpg  \n",
            "  inflating: dataset/train/sigatoka/IMG_20210311_124432.jpg  \n",
            "  inflating: dataset/train/sigatoka/IMG_20210311_124439.jpg  \n",
            "  inflating: dataset/train/sigatoka/IMG_20210311_124451_1.jpg  \n",
            "  inflating: dataset/train/sigatoka/IMG_20210311_124500.jpg  \n",
            "  inflating: dataset/train/sigatoka/IMG_20210311_124504_1.jpg  \n",
            "  inflating: dataset/train/sigatoka/IMG_20210311_124509.jpg  \n",
            "  inflating: dataset/train/sigatoka/IMG_20210311_124518_1.jpg  \n",
            "  inflating: dataset/train/sigatoka/IMG_20210311_124520_1.jpg  \n",
            "  inflating: dataset/train/sigatoka/IMG_20210311_124816.jpg  \n",
            "  inflating: dataset/train/sigatoka/IMG_20210311_124820.jpg  \n",
            "  inflating: dataset/train/sigatoka/IMG_20210311_124828_1.jpg  \n",
            "  inflating: dataset/train/sigatoka/IMG_20210311_124838_1.jpg  \n",
            "  inflating: dataset/train/sigatoka/IMG_20210311_124840_1.jpg  \n",
            "  inflating: dataset/train/sigatoka/IMG_20210311_124855_1.jpg  \n",
            "  inflating: dataset/train/sigatoka/IMG_20210311_124902.jpg  \n",
            "  inflating: dataset/train/sigatoka/IMG_20210311_124909_1.jpg  \n",
            "  inflating: dataset/train/sigatoka/IMG_20210311_124932_1.jpg  \n",
            "  inflating: dataset/train/sigatoka/IMG_20210311_124944.jpg  \n",
            "  inflating: dataset/train/sigatoka/IMG_20210312_151253.jpg  \n",
            "  inflating: dataset/train/sigatoka/IMG_20210312_151257_1.jpg  \n",
            "  inflating: dataset/train/sigatoka/IMG_20210312_151302_1.jpg  \n",
            "  inflating: dataset/train/sigatoka/IMG_20210312_151309_1.jpg  \n",
            "  inflating: dataset/train/sigatoka/IMG_20210312_151313_1.jpg  \n",
            "  inflating: dataset/train/sigatoka/IMG_20210312_151317.jpg  \n",
            "  inflating: dataset/train/sigatoka/IMG_20210312_151322_1.jpg  \n",
            "  inflating: dataset/train/sigatoka/IMG_20210312_151326_1.jpg  \n",
            "  inflating: dataset/train/sigatoka/IMG_20210312_151805_1.jpg  \n",
            "  inflating: dataset/train/sigatoka/IMG_20210312_151815_1.jpg  \n",
            "  inflating: dataset/train/sigatoka/IMG_20210312_151822_1.jpg  \n",
            "  inflating: dataset/train/sigatoka/IMG_20210312_151829_1.jpg  \n",
            "  inflating: dataset/train/sigatoka/IMG_20210312_151836_1.jpg  \n",
            "  inflating: dataset/train/sigatoka/IMG_20210312_152125_1.jpg  \n",
            "  inflating: dataset/train/sigatoka/IMG_20210312_152133.jpg  \n",
            "  inflating: dataset/train/sigatoka/IMG_20210312_152225_1.jpg  \n",
            "  inflating: dataset/train/sigatoka/IMG_20210312_152230_1.jpg  \n",
            "  inflating: dataset/train/sigatoka/IMG_20210312_152411_1.jpg  \n",
            "  inflating: dataset/train/sigatoka/IMG_20210312_152418.jpg  \n",
            "  inflating: dataset/train/sigatoka/IMG_20210312_172837.jpg  \n",
            "  inflating: dataset/train/sigatoka/IMG_20210312_172856.jpg  \n",
            "  inflating: dataset/train/sigatoka/IMG_20210312_172900_1.jpg  \n",
            "  inflating: dataset/train/sigatoka/IMG_20210312_172908_1.jpg  \n",
            "  inflating: dataset/train/sigatoka/IMG_20210312_172938_1.jpg  \n",
            "  inflating: dataset/train/sigatoka/IMG_20210312_172944_1.jpg  \n",
            "  inflating: dataset/train/sigatoka/IMG_20210312_173021_1.jpg  \n",
            "  inflating: dataset/train/sigatoka/IMG_20210312_173105_1.jpg  \n",
            "  inflating: dataset/train/sigatoka/IMG_20210312_173110_1.jpg  \n",
            "  inflating: dataset/train/sigatoka/IMG_20210312_173116.jpg  \n",
            "  inflating: dataset/train/sigatoka/IMG_20210312_173134.jpg  \n",
            "  inflating: dataset/train/sigatoka/IMG_20210312_173139.jpg  \n",
            "  inflating: dataset/train/sigatoka/IMG_20210312_173149.jpg  \n",
            "  inflating: dataset/train/sigatoka/IMG_20210312_173205.jpg  \n",
            "  inflating: dataset/train/sigatoka/IMG_20210312_173211.jpg  \n",
            "  inflating: dataset/train/sigatoka/IMG_20210312_173224.jpg  \n",
            "  inflating: dataset/train/sigatoka/IMG_20210312_173229_1.jpg  \n",
            "  inflating: dataset/train/sigatoka/IMG_20210312_173241.jpg  \n",
            "  inflating: dataset/train/sigatoka/IMG_20210312_173245_1.jpg  \n",
            "  inflating: dataset/train/sigatoka/IMG_20210312_173305_1.jpg  \n",
            "  inflating: dataset/train/sigatoka/IMG_20210312_173316_1.jpg  \n",
            "  inflating: dataset/train/sigatoka/IMG_20210312_173326.jpg  \n",
            "  inflating: dataset/train/sigatoka/IMG_20210312_173333.jpg  \n",
            "  inflating: dataset/train/sigatoka/IMG_20210312_173349.jpg  \n",
            "  inflating: dataset/train/sigatoka/IMG_20210312_173356_1.jpg  \n",
            "  inflating: dataset/train/sigatoka/IMG_20210312_173429_1.jpg  \n",
            "  inflating: dataset/train/sigatoka/IMG_20210312_173434_1.jpg  \n",
            "  inflating: dataset/train/sigatoka/IMG_20210312_173439.jpg  \n",
            "  inflating: dataset/train/sigatoka/IMG_20210312_173444_1.jpg  \n",
            "  inflating: dataset/train/sigatoka/IMG_20210312_173449.jpg  \n",
            "  inflating: dataset/train/sigatoka/IMG_20210312_173455_1.jpg  \n",
            "  inflating: dataset/train/sigatoka/IMG_20210312_173557.jpg  \n",
            "  inflating: dataset/train/sigatoka/IMG_20210312_173601_1.jpg  \n",
            "  inflating: dataset/train/sigatoka/IMG_20210312_173615.jpg  \n",
            "  inflating: dataset/train/sigatoka/IMG_20210312_173624.jpg  \n",
            "  inflating: dataset/train/sigatoka/IMG_20210312_173629.jpg  \n",
            "  inflating: dataset/train/sigatoka/IMG_20210312_173721.jpg  \n",
            "  inflating: dataset/train/sigatoka/IMG_20210312_173727.jpg  \n",
            "  inflating: dataset/train/sigatoka/IMG_20210312_173739.jpg  \n",
            "  inflating: dataset/train/sigatoka/IMG_20210312_173759_1.jpg  \n",
            "  inflating: dataset/train/sigatoka/IMG_20210312_173804.jpg  \n",
            "  inflating: dataset/train/sigatoka/IMG_20210312_173807_1.jpg  \n",
            "  inflating: dataset/train/sigatoka/IMG_20210312_173813_1.jpg  \n",
            "  inflating: dataset/train/sigatoka/IMG_20210312_173817_1.jpg  \n",
            "  inflating: dataset/train/sigatoka/IMG_20210312_173821.jpg  \n",
            "  inflating: dataset/train/sigatoka/IMG_20210312_173823_1.jpg  \n",
            "  inflating: dataset/train/sigatoka/IMG_20210312_173826_1.jpg  \n",
            "  inflating: dataset/train/sigatoka/IMG_20210312_173834.jpg  \n",
            "  inflating: dataset/train/sigatoka/IMG_20210312_173850_1.jpg  \n",
            "  inflating: dataset/train/sigatoka/IMG_20210312_173855_1.jpg  \n",
            "  inflating: dataset/train/sigatoka/IMG_20210312_173901_1.jpg  \n",
            "  inflating: dataset/train/sigatoka/IMG_20210312_173933.jpg  \n",
            "  inflating: dataset/train/sigatoka/IMG_20210312_173936_1.jpg  \n",
            "  inflating: dataset/train/sigatoka/IMG_20210312_173956_1.jpg  \n",
            "  inflating: dataset/train/sigatoka/IMG_20210312_174000_1.jpg  \n",
            "  inflating: dataset/train/sigatoka/IMG_20210312_174013_1.jpg  \n",
            "  inflating: dataset/train/sigatoka/IMG_20210312_174046_1.jpg  \n",
            "  inflating: dataset/train/sigatoka/IMG_20210312_174051.jpg  \n",
            "  inflating: dataset/train/sigatoka/IMG_20210312_174054.jpg  \n",
            "  inflating: dataset/train/sigatoka/IMG_20210312_174109_1.jpg  \n",
            "  inflating: dataset/train/sigatoka/IMG_20210312_174120_1.jpg  \n",
            "  inflating: dataset/train/sigatoka/IMG_20210312_174138.jpg  \n",
            "  inflating: dataset/train/sigatoka/IMG_20210312_174144.jpg  \n",
            "  inflating: dataset/train/sigatoka/IMG_20210312_174202.jpg  \n",
            "  inflating: dataset/train/sigatoka/IMG_20210312_174207_1.jpg  \n",
            "  inflating: dataset/train/sigatoka/IMG_20210312_174211_1.jpg  \n",
            "  inflating: dataset/train/sigatoka/IMG_20210312_174220_1.jpg  \n",
            "  inflating: dataset/train/sigatoka/IMG_20210312_174226_1.jpg  \n",
            "  inflating: dataset/train/sigatoka/IMG_20210312_174238.jpg  \n",
            "  inflating: dataset/train/sigatoka/IMG_20210312_174253.jpg  \n",
            "  inflating: dataset/train/sigatoka/IMG_20210312_174303.jpg  \n",
            "  inflating: dataset/train/sigatoka/IMG_20210312_174309_1.jpg  \n",
            "  inflating: dataset/train/sigatoka/IMG_20210312_174319_1.jpg  \n",
            "  inflating: dataset/train/sigatoka/IMG_20210312_174325.jpg  \n",
            "  inflating: dataset/train/sigatoka/IMG_20210312_174332.jpg  \n",
            "  inflating: dataset/train/sigatoka/IMG_20210312_174345_1.jpg  \n",
            "  inflating: dataset/train/sigatoka/IMG_20210312_174349.jpg  \n",
            "  inflating: dataset/train/sigatoka/IMG_20210312_174351.jpg  \n",
            "  inflating: dataset/train/sigatoka/IMG_20210312_174356_1.jpg  \n",
            "  inflating: dataset/train/sigatoka/IMG_20210312_174402.jpg  \n",
            "  inflating: dataset/train/sigatoka/IMG_20210312_174408_1.jpg  \n",
            "  inflating: dataset/train/sigatoka/IMG_20210312_174414.jpg  \n",
            "  inflating: dataset/train/sigatoka/IMG_20210312_174422.jpg  \n",
            "  inflating: dataset/train/sigatoka/IMG_20210312_174426_1.jpg  \n",
            "  inflating: dataset/train/sigatoka/IMG_20210312_174428.jpg  \n",
            "  inflating: dataset/train/sigatoka/IMG_20210312_174454_1.jpg  \n",
            "  inflating: dataset/train/sigatoka/IMG_20210312_174456_1.jpg  \n",
            "  inflating: dataset/train/sigatoka/IMG_20210312_174505.jpg  \n",
            "  inflating: dataset/train/sigatoka/IMG_20210312_174506_1.jpg  \n",
            "  inflating: dataset/train/sigatoka/IMG_20210312_174544.jpg  \n",
            "  inflating: dataset/train/sigatoka/IMG_20210312_174546_1.jpg  \n",
            "  inflating: dataset/train/sigatoka/IMG_20210312_174551.jpg  \n",
            "  inflating: dataset/train/sigatoka/IMG_20210312_174555_1.jpg  \n",
            "  inflating: dataset/train/sigatoka/IMG_20210312_174605_1.jpg  \n",
            "  inflating: dataset/train/sigatoka/IMG_20210312_174613.jpg  \n",
            "  inflating: dataset/train/sigatoka/IMG_20210312_174617_1.jpg  \n",
            "  inflating: dataset/train/sigatoka/IMG_20210312_174624_1.jpg  \n",
            "  inflating: dataset/train/sigatoka/IMG_20210312_174634_1.jpg  \n",
            "  inflating: dataset/train/sigatoka/IMG_20210312_174641.jpg  \n",
            "  inflating: dataset/train/sigatoka/IMG_20210312_174646_1.jpg  \n",
            "  inflating: dataset/train/sigatoka/IMG_20210312_174650_1.jpg  \n",
            "  inflating: dataset/train/sigatoka/IMG_20210312_174727.jpg  \n",
            "  inflating: dataset/train/sigatoka/IMG_20210312_174730_1.jpg  \n",
            "  inflating: dataset/train/sigatoka/IMG_20210312_174749_1.jpg  \n",
            "  inflating: dataset/train/sigatoka/IMG_20210312_174753_1.jpg  \n",
            "  inflating: dataset/train/sigatoka/IMG_20210312_174758_1.jpg  \n",
            "  inflating: dataset/train/sigatoka/IMG_20210312_174807_1.jpg  \n",
            "  inflating: dataset/train/sigatoka/IMG_20210312_174810_1.jpg  \n",
            "  inflating: dataset/train/sigatoka/IMG_20210312_174814.jpg  \n",
            "  inflating: dataset/train/sigatoka/IMG_20210312_174820_1.jpg  \n",
            "  inflating: dataset/train/sigatoka/IMG_20210312_174828_1.jpg  \n",
            "  inflating: dataset/train/sigatoka/IMG_20210312_174835.jpg  \n",
            "  inflating: dataset/train/sigatoka/IMG_20210312_174839.jpg  \n",
            "  inflating: dataset/train/sigatoka/IMG_20210312_174854.jpg  \n",
            "  inflating: dataset/train/sigatoka/IMG_20210312_174858.jpg  \n",
            "  inflating: dataset/train/sigatoka/IMG_20210312_174903.jpg  \n",
            "  inflating: dataset/train/sigatoka/IMG_20210312_174906_1.jpg  \n",
            "  inflating: dataset/train/sigatoka/IMG_20210312_174910_1.jpg  \n",
            "  inflating: dataset/train/sigatoka/IMG_20210312_174944.jpg  \n",
            "  inflating: dataset/train/sigatoka/IMG_20210312_174951_1.jpg  \n",
            "  inflating: dataset/train/sigatoka/IMG_20210312_175009.jpg  \n",
            "  inflating: dataset/train/sigatoka/IMG_20210312_175016.jpg  \n",
            "  inflating: dataset/train/sigatoka/IMG_20210312_175027.jpg  \n",
            "  inflating: dataset/train/sigatoka/IMG_20210312_175031_1.jpg  \n",
            "  inflating: dataset/train/sigatoka/IMG_20210312_175043.jpg  \n",
            "  inflating: dataset/train/sigatoka/IMG_20210312_175046_1.jpg  \n",
            "  inflating: dataset/train/sigatoka/IMG_20210312_175054.jpg  \n",
            "  inflating: dataset/train/sigatoka/IMG_20210312_175059_1.jpg  \n",
            "  inflating: dataset/train/sigatoka/IMG_20210312_175105.jpg  \n",
            "  inflating: dataset/train/sigatoka/IMG_20210312_175119.jpg  \n",
            "  inflating: dataset/train/sigatoka/IMG_20210312_175129_1.jpg  \n",
            "  inflating: dataset/train/sigatoka/IMG_20210312_175145.jpg  \n",
            "  inflating: dataset/train/sigatoka/IMG_20210312_175151.jpg  \n",
            "  inflating: dataset/train/sigatoka/IMG_20210312_175155.jpg  \n",
            "  inflating: dataset/train/sigatoka/IMG_20210312_175214.jpg  \n",
            "  inflating: dataset/train/sigatoka/IMG_20210312_175224.jpg  \n",
            "  inflating: dataset/train/sigatoka/IMG_20210312_175234.jpg  \n",
            "  inflating: dataset/train/sigatoka/IMG_20210312_175240_1.jpg  \n",
            "  inflating: dataset/train/sigatoka/IMG_20210312_175257_1.jpg  \n",
            "  inflating: dataset/train/sigatoka/IMG_20210312_175313.jpg  \n",
            "  inflating: dataset/train/sigatoka/IMG_20210312_175318.jpg  \n",
            "  inflating: dataset/train/sigatoka/IMG_20210312_175326_1.jpg  \n",
            "  inflating: dataset/train/sigatoka/IMG_20210312_175340.jpg  \n",
            "  inflating: dataset/train/sigatoka/IMG_20210312_175347.jpg  \n",
            "  inflating: dataset/val/cordana/1615455264253.jpg  \n",
            "  inflating: dataset/val/cordana/1615455264278.jpg  \n",
            "  inflating: dataset/val/cordana/1615455265226.jpg  \n",
            "  inflating: dataset/val/cordana/aug-image-_0_1077.jpeg  \n",
            "  inflating: dataset/val/cordana/aug-image-_0_1121.jpeg  \n",
            "  inflating: dataset/val/cordana/aug-image-_0_289.jpeg  \n",
            "  inflating: dataset/val/cordana/aug-image-_0_2893.jpeg  \n",
            "  inflating: dataset/val/cordana/aug-image-_0_3032.jpeg  \n",
            "  inflating: dataset/val/cordana/aug-image-_0_396.jpeg  \n",
            "  inflating: dataset/val/cordana/aug-image-_0_3982.jpeg  \n",
            "  inflating: dataset/val/cordana/aug-image-_0_4391.jpeg  \n",
            "  inflating: dataset/val/cordana/aug-image-_0_5783.jpeg  \n",
            "  inflating: dataset/val/cordana/aug-image-_0_6648.jpeg  \n",
            "  inflating: dataset/val/cordana/aug-image-_0_6937.jpeg  \n",
            "  inflating: dataset/val/cordana/aug-image-_0_75.jpeg  \n",
            "  inflating: dataset/val/cordana/aug-image-_0_8305.jpeg  \n",
            "  inflating: dataset/val/cordana/aug-image-_0_8338.jpeg  \n",
            "  inflating: dataset/val/cordana/aug-image-_0_8981.jpeg  \n",
            "  inflating: dataset/val/cordana/aug-image-_0_9092.jpeg  \n",
            "  inflating: dataset/val/cordana/aug-image-_0_9678.jpeg  \n",
            "  inflating: dataset/val/healthy/IMG_20210309_124850.jpg  \n",
            "  inflating: dataset/val/healthy/IMG_20210309_131622.jpg  \n",
            "  inflating: dataset/val/healthy/IMG_20210309_132107.jpg  \n",
            "  inflating: dataset/val/healthy/IMG_20210309_132131.jpg  \n",
            "  inflating: dataset/val/healthy/IMG_20210309_133155.jpg  \n",
            "  inflating: dataset/val/healthy/IMG_20210309_133255.jpg  \n",
            "  inflating: dataset/val/healthy/IMG_20210309_133300.jpg  \n",
            "  inflating: dataset/val/healthy/IMG_20210309_133454.jpg  \n",
            "  inflating: dataset/val/healthy/IMG_20210309_133825.jpg  \n",
            "  inflating: dataset/val/healthy/IMG_20210309_133843.jpg  \n",
            "  inflating: dataset/val/healthy/IMG_20210309_134203.jpg  \n",
            "  inflating: dataset/val/healthy/IMG_20210309_134320.jpg  \n",
            "  inflating: dataset/val/healthy/IMG_20210309_134629.jpg  \n",
            "  inflating: dataset/val/healthy/IMG_20210309_134638.jpg  \n",
            "  inflating: dataset/val/healthy/IMG_20210309_134716.jpg  \n",
            "  inflating: dataset/val/healthy/IMG_20210309_134751.jpg  \n",
            "  inflating: dataset/val/healthy/IMG_20210309_134835.jpg  \n",
            "  inflating: dataset/val/healthy/IMG_20210309_134849.jpg  \n",
            "  inflating: dataset/val/healthy/IMG_20210309_135055.jpg  \n",
            "  inflating: dataset/val/healthy/IMG_20210309_135444.jpg  \n",
            "  inflating: dataset/val/pestalotiopsis/IMG_20210309_123810.jpg  \n",
            "  inflating: dataset/val/pestalotiopsis/IMG_20210309_124105.jpg  \n",
            "  inflating: dataset/val/pestalotiopsis/IMG_20210309_124127.jpg  \n",
            "  inflating: dataset/val/pestalotiopsis/IMG_20210309_124629.jpg  \n",
            "  inflating: dataset/val/pestalotiopsis/IMG_20210309_125030.jpg  \n",
            "  inflating: dataset/val/pestalotiopsis/IMG_20210309_131214.jpg  \n",
            "  inflating: dataset/val/pestalotiopsis/IMG_20210309_131223.jpg  \n",
            "  inflating: dataset/val/pestalotiopsis/IMG_20210309_131452.jpg  \n",
            "  inflating: dataset/val/pestalotiopsis/IMG_20210309_131600.jpg  \n",
            "  inflating: dataset/val/pestalotiopsis/IMG_20210309_131630.jpg  \n",
            "  inflating: dataset/val/pestalotiopsis/IMG_20210309_131735.jpg  \n",
            "  inflating: dataset/val/pestalotiopsis/IMG_20210309_131757.jpg  \n",
            "  inflating: dataset/val/pestalotiopsis/IMG_20210309_131846.jpg  \n",
            "  inflating: dataset/val/pestalotiopsis/IMG_20210309_133345.jpg  \n",
            "  inflating: dataset/val/pestalotiopsis/IMG_20210309_133354.jpg  \n",
            "  inflating: dataset/val/pestalotiopsis/IMG_20210309_134145.jpg  \n",
            "  inflating: dataset/val/pestalotiopsis/IMG_20210309_134249.jpg  \n",
            "  inflating: dataset/val/pestalotiopsis/IMG_20210309_134251.jpg  \n",
            "  inflating: dataset/val/pestalotiopsis/IMG_20210309_134445.jpg  \n",
            "  inflating: dataset/val/pestalotiopsis/IMG_20210309_134447.jpg  \n",
            "  inflating: dataset/val/sigatoka/IMG_20210311_102948.jpg  \n",
            "  inflating: dataset/val/sigatoka/IMG_20210311_103147_1.jpg  \n",
            "  inflating: dataset/val/sigatoka/IMG_20210311_103858_1.jpg  \n",
            "  inflating: dataset/val/sigatoka/IMG_20210311_103939.jpg  \n",
            "  inflating: dataset/val/sigatoka/IMG_20210311_104244_1.jpg  \n",
            "  inflating: dataset/val/sigatoka/IMG_20210311_104252_1.jpg  \n",
            "  inflating: dataset/val/sigatoka/IMG_20210311_121508_1.jpg  \n",
            "  inflating: dataset/val/sigatoka/IMG_20210311_121924.jpg  \n",
            "  inflating: dataset/val/sigatoka/IMG_20210311_123818_1.jpg  \n",
            "  inflating: dataset/val/sigatoka/IMG_20210311_124006_1.jpg  \n",
            "  inflating: dataset/val/sigatoka/IMG_20210311_124126_1.jpg  \n",
            "  inflating: dataset/val/sigatoka/IMG_20210311_124311_BURST1.jpg  \n",
            "  inflating: dataset/val/sigatoka/IMG_20210312_173403.jpg  \n",
            "  inflating: dataset/val/sigatoka/IMG_20210312_174156_1.jpg  \n",
            "  inflating: dataset/val/sigatoka/IMG_20210312_174232.jpg  \n",
            "  inflating: dataset/val/sigatoka/IMG_20210312_174656.jpg  \n",
            "  inflating: dataset/val/sigatoka/IMG_20210312_175022.jpg  \n",
            "  inflating: dataset/val/sigatoka/IMG_20210312_175125_1.jpg  \n",
            "  inflating: dataset/val/sigatoka/IMG_20210312_175220.jpg  \n",
            "  inflating: dataset/val/sigatoka/IMG_20210312_175248_1.jpg  \n"
          ]
        }
      ]
    },
    {
      "cell_type": "code",
      "source": [
        "!mkdir --parents --verbose /content/drive/MyDrive/banana-leaf/output"
      ],
      "metadata": {
        "id": "Qdbr-pzLlqn_"
      },
      "execution_count": 7,
      "outputs": []
    },
    {
      "cell_type": "markdown",
      "source": [
        "## Preprocess\n",
        "\n",
        "The feature descriptor describes an interest point and encodes the description in the form of a multidimensional feature vector in the vector space."
      ],
      "metadata": {
        "id": "25Z3ac2BP5Lj"
      }
    },
    {
      "cell_type": "code",
      "source": [
        "# convert setiap gambar dari rgb ke bgr\n",
        "def rgb_bgr(image):\n",
        "    rgb_img = cv2.cvtColor(image, cv2.COLOR_BGR2RGB)\n",
        "    return rgb_img\n",
        "\n",
        "# convert setiap gambar dari rgb ke hsv\n",
        "def bgr_hsv(rgb_img):\n",
        "    hsv_img = cv2.cvtColor(rgb_img, cv2.COLOR_RGB2HSV)\n",
        "    return hsv_img\n",
        "\n",
        "def img_segmentation(rgb_img, hsv_img):\n",
        "    \"\"\"Fungsi untuk segmentasi\n",
        "    Untuk ekstraksi warna hijau dan coklat\"\"\"\n",
        "    lower_green = np.array([25,0,20])\n",
        "    upper_green = np.array([100,255,255])\n",
        "    healthy_mask = cv2.inRange(hsv_img, lower_green, upper_green)\n",
        "    result = cv2.bitwise_and(rgb_img,rgb_img, mask=healthy_mask)\n",
        "    lower_brown = np.array([10,0,10])\n",
        "    upper_brown = np.array([30,255,255])\n",
        "    disease_mask = cv2.inRange(hsv_img, lower_brown, upper_brown)\n",
        "    disease_result = cv2.bitwise_and(rgb_img, rgb_img, mask=disease_mask)\n",
        "    final_mask = healthy_mask + disease_mask\n",
        "    final_result = cv2.bitwise_and(rgb_img, rgb_img, mask=final_mask)\n",
        "    return final_result\n",
        "\n",
        "# feature-descriptor-1: Hu Moments\n",
        "def fd_hu_moments(image):\n",
        "    image = cv2.cvtColor(image, cv2.COLOR_BGR2GRAY)\n",
        "    feature = cv2.HuMoments(cv2.moments(image)).flatten()\n",
        "    return feature\n",
        "\n",
        "# feature-descriptor-2: Haralick Texture\n",
        "def fd_haralick(image):\n",
        "    gray = cv2.cvtColor(image, cv2.COLOR_BGR2GRAY)\n",
        "    haralick = mahotas.features.haralick(gray).mean(axis=0)\n",
        "    return haralick\n",
        "\n",
        "# feature-descriptor-3: Color Histogram\n",
        "def fd_histogram(image, mask=None):\n",
        "    image = cv2.cvtColor(image, cv2.COLOR_BGR2HSV)\n",
        "    hist  = cv2.calcHist([image], [0, 1, 2], None, [BINS, BINS, BINS], [0, 256, 0, 256, 0, 256])\n",
        "    cv2.normalize(hist, hist)\n",
        "    return hist.flatten()"
      ],
      "metadata": {
        "id": "EV1qophXP4-E"
      },
      "execution_count": 8,
      "outputs": []
    },
    {
      "cell_type": "markdown",
      "source": [
        "## Input Preparation"
      ],
      "metadata": {
        "id": "vZTEw4LnRQs4"
      }
    },
    {
      "cell_type": "code",
      "source": [
        "# dapatkan label training\n",
        "train_labels = os.listdir(TRAIN_PATH)\n",
        "\n",
        "# urutkan training label\n",
        "train_labels.sort()\n",
        "print(train_labels)\n",
        "\n",
        "# variabel penampung vektor fitur dan label\n",
        "global_features = []\n",
        "labels = []"
      ],
      "metadata": {
        "colab": {
          "base_uri": "https://localhost:8080/"
        },
        "id": "Uoo7LTAiRMQc",
        "outputId": "872774f9-c2a9-4ccd-ed82-9be8459b869f"
      },
      "execution_count": 9,
      "outputs": [
        {
          "output_type": "stream",
          "name": "stdout",
          "text": [
            "['cordana', 'healthy', 'pestalotiopsis', 'sigatoka']\n"
          ]
        }
      ]
    },
    {
      "cell_type": "code",
      "source": [
        "# loop sub-folder pada training data\n",
        "for training_name in train_labels:\n",
        "    # join path training data dan setiap sub-folder nya\n",
        "    dir = os.path.join(TRAIN_PATH, training_name)\n",
        "\n",
        "    # dapatkan training label\n",
        "    current_label = training_name\n",
        "\n",
        "    # loop gambar di setiap sub-folder\n",
        "    for image_name in os.listdir(dir):\n",
        "        # dapatkan path ke file image\n",
        "        file_name = os.path.join(dir, image_name)\n",
        "\n",
        "        # baca image dan resize ke fixed-size\n",
        "        image = cv2.imread(file_name)\n",
        "        image = cv2.resize(image, FIXED_SIZE)\n",
        "\n",
        "        # jalankan fungsi preprocessing satu per satu\n",
        "        bgr_image = rgb_bgr(image)\n",
        "        hsv_image = bgr_hsv(bgr_image)\n",
        "        segmented_img = img_segmentation(bgr_image,hsv_image)\n",
        "\n",
        "        # jalankan fungsi feature descriptor\n",
        "        fv_hu_moments = fd_hu_moments(segmented_img)\n",
        "        fv_haralick = fd_haralick(segmented_img)\n",
        "        fv_histogram = fd_histogram(segmented_img)\n",
        "        \n",
        "        # gabungin\n",
        "        global_feature = np.hstack([fv_histogram, fv_haralick, fv_hu_moments])\n",
        "        \n",
        "        # tambahkan ke dalam variabel penampung yang sudah dibuat\n",
        "        labels.append(current_label)\n",
        "        global_features.append(global_feature)\n",
        "\n",
        "    print(f\"Memroses folder: {current_label}\")\n",
        "\n",
        "print(\"Selesai global feature extraction\")"
      ],
      "metadata": {
        "colab": {
          "base_uri": "https://localhost:8080/"
        },
        "id": "0o8_c4lcSfAI",
        "outputId": "da51d5e5-8c26-4d50-bb4b-52f7d129da18"
      },
      "execution_count": 10,
      "outputs": [
        {
          "output_type": "stream",
          "name": "stdout",
          "text": [
            "Memroses folder: cordana\n",
            "Memroses folder: healthy\n",
            "Memroses folder: pestalotiopsis\n",
            "Memroses folder: sigatoka\n",
            "Selesai global feature extraction\n"
          ]
        }
      ]
    },
    {
      "cell_type": "code",
      "source": [
        "print(f\"Ukuran vektor fitur: {np.array(global_features).shape}\")\n",
        "print(f\"Ukuran training label: {np.array(labels).shape}\")"
      ],
      "metadata": {
        "colab": {
          "base_uri": "https://localhost:8080/"
        },
        "id": "Ln1dI3B7i1hM",
        "outputId": "b7a5323f-d458-45df-9a62-77b04f00175f"
      },
      "execution_count": 11,
      "outputs": [
        {
          "output_type": "stream",
          "name": "stdout",
          "text": [
            "Ukuran vektor fitur: (777, 532)\n",
            "Ukuran training label: (777,)\n"
          ]
        }
      ]
    },
    {
      "cell_type": "code",
      "source": [
        "# encode target labels\n",
        "target_names = np.unique(labels)\n",
        "le = LabelEncoder()\n",
        "target = le.fit_transform(labels)\n",
        "print(\"training label encoded\")"
      ],
      "metadata": {
        "colab": {
          "base_uri": "https://localhost:8080/"
        },
        "id": "T1S-ZiGUjPVR",
        "outputId": "7c3f76a8-89f1-4bcb-d38f-73bf467208a9"
      },
      "execution_count": 12,
      "outputs": [
        {
          "output_type": "stream",
          "name": "stdout",
          "text": [
            "training label encoded\n"
          ]
        }
      ]
    },
    {
      "cell_type": "code",
      "source": [
        "# ubah skala fitur menjadi (0-1)\n",
        "from sklearn.preprocessing import MinMaxScaler\n",
        "\n",
        "scaler = MinMaxScaler(feature_range=(0, 1))\n",
        "rescaled_features = scaler.fit_transform(global_features)\n",
        "print(\"feature vector normalized...\")"
      ],
      "metadata": {
        "colab": {
          "base_uri": "https://localhost:8080/"
        },
        "id": "jgyY1x-wjnRO",
        "outputId": "5f553eeb-25bc-47d2-b36b-18c92730d41b"
      },
      "execution_count": 13,
      "outputs": [
        {
          "output_type": "stream",
          "name": "stdout",
          "text": [
            "feature vector normalized...\n"
          ]
        }
      ]
    },
    {
      "cell_type": "code",
      "source": [
        "print(f\"Target labels: {target}\")\n",
        "print(f\"Target labels shape: {target.shape}\")"
      ],
      "metadata": {
        "colab": {
          "base_uri": "https://localhost:8080/"
        },
        "id": "Lzim5iUqj16V",
        "outputId": "9b0593ce-f8f4-43ee-e158-10806408c6f9"
      },
      "execution_count": 14,
      "outputs": [
        {
          "output_type": "stream",
          "name": "stdout",
          "text": [
            "Target labels: [0 0 0 0 0 0 0 0 0 0 0 0 0 0 0 0 0 0 0 0 0 0 0 0 0 0 0 0 0 0 0 0 0 0 0 0 0\n",
            " 0 0 0 0 0 0 0 0 0 0 0 0 0 0 0 0 0 0 0 0 0 0 0 0 0 0 0 0 0 0 0 0 0 0 0 0 0\n",
            " 0 0 0 0 0 0 0 0 0 0 0 0 0 0 0 0 0 0 0 0 0 0 0 0 0 0 0 0 0 0 0 0 0 0 0 0 0\n",
            " 0 0 0 0 0 0 0 0 0 0 0 1 1 1 1 1 1 1 1 1 1 1 1 1 1 1 1 1 1 1 1 1 1 1 1 1 1\n",
            " 1 1 1 1 1 1 1 1 1 1 1 1 1 1 1 1 1 1 1 1 1 1 1 1 1 1 1 1 1 1 1 1 1 1 1 1 1\n",
            " 1 1 1 1 1 1 1 1 1 1 1 1 1 1 1 1 1 1 1 1 1 1 1 1 1 1 2 2 2 2 2 2 2 2 2 2 2\n",
            " 2 2 2 2 2 2 2 2 2 2 2 2 2 2 2 2 2 2 2 2 2 2 2 2 2 2 2 2 2 2 2 2 2 2 2 2 2\n",
            " 2 2 2 2 2 2 2 2 2 2 2 2 2 2 2 2 2 2 2 2 2 2 2 2 2 2 2 2 2 2 2 2 2 2 2 2 2\n",
            " 2 2 2 2 2 2 2 2 2 2 2 2 2 2 2 2 2 2 2 2 2 2 2 2 2 2 2 2 2 2 2 2 2 2 2 2 2\n",
            " 2 2 2 2 2 2 2 2 2 2 2 3 3 3 3 3 3 3 3 3 3 3 3 3 3 3 3 3 3 3 3 3 3 3 3 3 3\n",
            " 3 3 3 3 3 3 3 3 3 3 3 3 3 3 3 3 3 3 3 3 3 3 3 3 3 3 3 3 3 3 3 3 3 3 3 3 3\n",
            " 3 3 3 3 3 3 3 3 3 3 3 3 3 3 3 3 3 3 3 3 3 3 3 3 3 3 3 3 3 3 3 3 3 3 3 3 3\n",
            " 3 3 3 3 3 3 3 3 3 3 3 3 3 3 3 3 3 3 3 3 3 3 3 3 3 3 3 3 3 3 3 3 3 3 3 3 3\n",
            " 3 3 3 3 3 3 3 3 3 3 3 3 3 3 3 3 3 3 3 3 3 3 3 3 3 3 3 3 3 3 3 3 3 3 3 3 3\n",
            " 3 3 3 3 3 3 3 3 3 3 3 3 3 3 3 3 3 3 3 3 3 3 3 3 3 3 3 3 3 3 3 3 3 3 3 3 3\n",
            " 3 3 3 3 3 3 3 3 3 3 3 3 3 3 3 3 3 3 3 3 3 3 3 3 3 3 3 3 3 3 3 3 3 3 3 3 3\n",
            " 3 3 3 3 3 3 3 3 3 3 3 3 3 3 3 3 3 3 3 3 3 3 3 3 3 3 3 3 3 3 3 3 3 3 3 3 3\n",
            " 3 3 3 3 3 3 3 3 3 3 3 3 3 3 3 3 3 3 3 3 3 3 3 3 3 3 3 3 3 3 3 3 3 3 3 3 3\n",
            " 3 3 3 3 3 3 3 3 3 3 3 3 3 3 3 3 3 3 3 3 3 3 3 3 3 3 3 3 3 3 3 3 3 3 3 3 3\n",
            " 3 3 3 3 3 3 3 3 3 3 3 3 3 3 3 3 3 3 3 3 3 3 3 3 3 3 3 3 3 3 3 3 3 3 3 3 3\n",
            " 3 3 3 3 3 3 3 3 3 3 3 3 3 3 3 3 3 3 3 3 3 3 3 3 3 3 3 3 3 3 3 3 3 3 3 3 3]\n",
            "Target labels shape: (777,)\n"
          ]
        }
      ]
    },
    {
      "cell_type": "code",
      "source": [
        "# simpan vektor feature ke file bentuk hdf5\n",
        "h5f_data = h5py.File(H5_TRAIN_DATA, 'w')\n",
        "h5f_data.create_dataset('dataset_1', data=np.array(rescaled_features))"
      ],
      "metadata": {
        "colab": {
          "base_uri": "https://localhost:8080/"
        },
        "id": "FtxPcUQWkO2I",
        "outputId": "381c2818-f065-424f-c4ec-5002b3d303ea"
      },
      "execution_count": 15,
      "outputs": [
        {
          "output_type": "execute_result",
          "data": {
            "text/plain": [
              "<HDF5 dataset \"dataset_1\": shape (777, 532), type \"<f8\">"
            ]
          },
          "metadata": {},
          "execution_count": 15
        }
      ]
    },
    {
      "cell_type": "code",
      "source": [
        "# simpan label training ke file bentuk hdf5\n",
        "h5f_label = h5py.File(H5_TRAIN_LABELS, 'w')\n",
        "h5f_label.create_dataset('dataset_1', data=np.array(target))"
      ],
      "metadata": {
        "colab": {
          "base_uri": "https://localhost:8080/"
        },
        "id": "QmHucZKInXUE",
        "outputId": "0eb46d8f-2bec-451b-9aa7-ad20bccf0faf"
      },
      "execution_count": 16,
      "outputs": [
        {
          "output_type": "execute_result",
          "data": {
            "text/plain": [
              "<HDF5 dataset \"dataset_1\": shape (777,), type \"<i8\">"
            ]
          },
          "metadata": {},
          "execution_count": 16
        }
      ]
    },
    {
      "cell_type": "code",
      "source": [
        "h5f_data.close()\n",
        "h5f_label.close()"
      ],
      "metadata": {
        "id": "2ji1RBI7n0Vt"
      },
      "execution_count": 18,
      "outputs": []
    },
    {
      "cell_type": "markdown",
      "source": [
        "# Training"
      ],
      "metadata": {
        "id": "1fIaWDkTn7ea"
      }
    },
    {
      "cell_type": "markdown",
      "source": [
        "## Setup Environment"
      ],
      "metadata": {
        "id": "x0raCeRroPB1"
      }
    },
    {
      "cell_type": "code",
      "source": [
        "import h5py\n",
        "import numpy as np\n",
        "import os\n",
        "import glob\n",
        "import cv2\n",
        "import warnings\n",
        "from matplotlib import pyplot\n",
        "from sklearn.model_selection import train_test_split, cross_val_score\n",
        "from sklearn.model_selection import KFold, StratifiedKFold\n",
        "from sklearn.metrics import ConfusionMatrixDisplay, accuracy_score, classification_report\n",
        "from sklearn.linear_model import LogisticRegression\n",
        "from sklearn.tree import DecisionTreeClassifier\n",
        "from sklearn.ensemble import RandomForestClassifier\n",
        "from sklearn.neighbors import KNeighborsClassifier\n",
        "from sklearn.discriminant_analysis import LinearDiscriminantAnalysis\n",
        "from sklearn.naive_bayes import GaussianNB\n",
        "from sklearn.svm import SVC\n",
        "import joblib\n",
        "\n",
        "warnings.filterwarnings('ignore')"
      ],
      "metadata": {
        "id": "R0SanepHn-4D"
      },
      "execution_count": 59,
      "outputs": []
    },
    {
      "cell_type": "code",
      "source": [
        "NUM_TREES = 100\n",
        "TEST_SIZE = 0.20\n",
        "SEED = 9\n",
        "TRAIN_PATH = 'dataset/train'\n",
        "TEST_PATH = 'dataset/test'\n",
        "VAL_PATH = 'dataset/val'\n",
        "H5_TRAIN_DATA = '/content/drive/MyDrive/banana-leaf/output/train_data.h5'\n",
        "H5_TRAIN_LABELS = '/content/drive/MyDrive/banana-leaf/output/train_labels.h5'\n",
        "SCORING = 'accuracy'"
      ],
      "metadata": {
        "id": "oltU3-EloVfd"
      },
      "execution_count": 20,
      "outputs": []
    },
    {
      "cell_type": "markdown",
      "source": [
        "## Data Preparation"
      ],
      "metadata": {
        "id": "j1O2sQimo--c"
      }
    },
    {
      "cell_type": "code",
      "source": [
        "# dapatkan training labels\n",
        "train_labels = os.listdir(TRAIN_PATH)\n",
        "\n",
        "# sort the training labels\n",
        "train_labels.sort()\n",
        "\n",
        "if not os.path.exists(TEST_PATH):\n",
        "    os.makedirs(TEST_PATH)"
      ],
      "metadata": {
        "id": "8f8YxW_7pC5q"
      },
      "execution_count": 21,
      "outputs": []
    },
    {
      "cell_type": "markdown",
      "source": [
        "## Machine Learning Models"
      ],
      "metadata": {
        "id": "D6010AfvphBQ"
      }
    },
    {
      "cell_type": "code",
      "source": [
        "# models = [\n",
        "#     ('LR', LogisticRegression(random_state=SEED)),\n",
        "#     ('LDA', LinearDiscriminantAnalysis()),\n",
        "#     ('KNN', KNeighborsClassifier()),\n",
        "#     ('CART', DecisionTreeClassifier(random_state=SEED)),\n",
        "#     ('RF', RandomForestClassifier(n_estimators=NUM_TREES, random_state=SEED)),\n",
        "#     ('NB', GaussianNB()),\n",
        "#     ('SVM', SVC(random_state=SEED))\n",
        "# ]"
      ],
      "metadata": {
        "id": "4QxH3uvfppPD"
      },
      "execution_count": null,
      "outputs": []
    },
    {
      "cell_type": "code",
      "source": [
        "# variabel untuk menyimpan hasil dan nama\n",
        "results = []\n",
        "names = []"
      ],
      "metadata": {
        "id": "ywVC4sO9qSh4"
      },
      "execution_count": 23,
      "outputs": []
    },
    {
      "cell_type": "code",
      "source": [
        "# import fitur vektor dan label yang telah ditrain\n",
        "h5f_data  = h5py.File(H5_TRAIN_DATA, 'r')\n",
        "h5f_label = h5py.File(H5_TRAIN_LABELS, 'r')\n",
        "\n",
        "global_features_string = h5f_data['dataset_1']\n",
        "global_labels_string   = h5f_label['dataset_1']\n",
        "\n",
        "global_features = np.array(global_features_string)\n",
        "global_labels = np.array(global_labels_string)\n",
        "\n",
        "h5f_data.close()\n",
        "h5f_label.close()\n",
        "\n",
        "# cek shape fitur vektor dan label\n",
        "print(f'Features shape: {global_features.shape}')\n",
        "print(f'Labels shape: {global_labels.shape}')"
      ],
      "metadata": {
        "colab": {
          "base_uri": "https://localhost:8080/"
        },
        "id": "3Uk4pBwiS6uM",
        "outputId": "5374dc09-25f3-4902-edd0-112f16521ed2"
      },
      "execution_count": 24,
      "outputs": [
        {
          "output_type": "stream",
          "name": "stdout",
          "text": [
            "Features shape: (777, 532)\n",
            "Labels shape: (777,)\n"
          ]
        }
      ]
    },
    {
      "cell_type": "code",
      "source": [
        "X_train = global_features\n",
        "y_train = global_labels"
      ],
      "metadata": {
        "id": "G_STMSIIYvw1"
      },
      "execution_count": 25,
      "outputs": []
    },
    {
      "cell_type": "markdown",
      "source": [
        "## Training Model"
      ],
      "metadata": {
        "id": "29Vb1GaRgjGm"
      }
    },
    {
      "cell_type": "code",
      "source": [
        "# model = KNeighborsClassifier(n_neighbors=9)\n",
        "# model.fit(X_train, y_train)"
      ],
      "metadata": {
        "colab": {
          "base_uri": "https://localhost:8080/"
        },
        "id": "BwbLGLbLVybZ",
        "outputId": "fddcc5cf-b881-4a87-ff33-fe9f94279f8a"
      },
      "execution_count": 109,
      "outputs": [
        {
          "output_type": "execute_result",
          "data": {
            "text/plain": [
              "KNeighborsClassifier(n_neighbors=9)"
            ]
          },
          "metadata": {},
          "execution_count": 109
        }
      ]
    },
    {
      "cell_type": "code",
      "source": [
        "model = RandomForestClassifier(n_estimators=NUM_TREES)\n",
        "model.fit(X_train, y_train)"
      ],
      "metadata": {
        "colab": {
          "base_uri": "https://localhost:8080/"
        },
        "id": "mbx27B-M0RRS",
        "outputId": "7345f474-df50-4da8-992b-82974c9fea80"
      },
      "execution_count": 120,
      "outputs": [
        {
          "output_type": "execute_result",
          "data": {
            "text/plain": [
              "RandomForestClassifier()"
            ]
          },
          "metadata": {},
          "execution_count": 120
        }
      ]
    },
    {
      "cell_type": "markdown",
      "source": [
        "## Evaluation Model"
      ],
      "metadata": {
        "id": "58N-EnDddKPI"
      }
    },
    {
      "cell_type": "code",
      "source": [
        "# dapatkan label training\n",
        "test_labels = os.listdir(TEST_PATH)\n",
        "\n",
        "# urutkan training label\n",
        "test_labels.sort()\n",
        "print(test_labels)\n",
        "\n",
        "# variabel penampung vektor fitur dan label\n",
        "X_test = []\n",
        "y_test = []\n",
        "\n",
        "# loop sub-folder pada training data\n",
        "for test_name in test_labels:\n",
        "    # join path training data dan setiap sub-folder nya\n",
        "    dir = os.path.join(TEST_PATH, test_name)\n",
        "\n",
        "    # dapatkan training label\n",
        "    current_label = test_name\n",
        "\n",
        "    # loop gambar di setiap sub-folder\n",
        "    for image_name in os.listdir(dir):\n",
        "        # dapatkan path ke file image\n",
        "        file_name = os.path.join(dir, image_name)\n",
        "\n",
        "        # baca image dan resize ke fixed-size\n",
        "        image = cv2.imread(file_name)\n",
        "        image = cv2.resize(image, FIXED_SIZE)\n",
        "\n",
        "        # jalankan fungsi preprocessing satu per satu\n",
        "        bgr_image = rgb_bgr(image)\n",
        "        hsv_image = bgr_hsv(bgr_image)\n",
        "        segmented_img = img_segmentation(bgr_image,hsv_image)\n",
        "\n",
        "        # jalankan fungsi feature descriptor\n",
        "        fv_hu_moments = fd_hu_moments(segmented_img)\n",
        "        fv_haralick = fd_haralick(segmented_img)\n",
        "        fv_histogram = fd_histogram(segmented_img)\n",
        "        \n",
        "        # gabungin\n",
        "        global_feature = np.hstack([fv_histogram, fv_haralick, fv_hu_moments])\n",
        "        \n",
        "        # tambahkan ke dalam variabel penampung yang sudah dibuat\n",
        "        y_test.append(current_label)\n",
        "        X_test.append(global_feature)\n",
        "\n",
        "    print(f\"Memroses folder: {current_label}\")\n",
        "\n",
        "print(\"Selesai global feature extraction\")"
      ],
      "metadata": {
        "colab": {
          "base_uri": "https://localhost:8080/"
        },
        "id": "VcvdAr8gTZ_z",
        "outputId": "9e3b3620-d261-430a-b870-7d4b7bbeb02f"
      },
      "execution_count": 43,
      "outputs": [
        {
          "output_type": "stream",
          "name": "stdout",
          "text": [
            "['cordana', 'healthy', 'pestalotiopsis', 'sigatoka']\n",
            "Memroses folder: cordana\n",
            "Memroses folder: healthy\n",
            "Memroses folder: pestalotiopsis\n",
            "Memroses folder: sigatoka\n",
            "Selesai global feature extraction\n"
          ]
        }
      ]
    },
    {
      "cell_type": "code",
      "source": [
        "X_test = np.array(X_test)\n",
        "y_test = np.array(y_test)\n",
        "\n",
        "print(f\"Ukuran vektor fitur test: {X_test.shape}\")\n",
        "print(f\"Ukuran training label: {y_test.shape}\")"
      ],
      "metadata": {
        "colab": {
          "base_uri": "https://localhost:8080/"
        },
        "id": "rDAWO-bDjauf",
        "outputId": "caff1a18-aa8e-4474-9076-e5d3abf4a669"
      },
      "execution_count": 44,
      "outputs": [
        {
          "output_type": "stream",
          "name": "stdout",
          "text": [
            "Ukuran vektor fitur test: (80, 532)\n",
            "Ukuran training label: (80,)\n"
          ]
        }
      ]
    },
    {
      "cell_type": "code",
      "source": [
        "# encode target labels\n",
        "target_names = np.unique(test_labels)\n",
        "le = LabelEncoder()\n",
        "encoded_y_test = le.fit_transform(y_test)\n",
        "print(\"training label encoded\")\n",
        "\n",
        "\n",
        "# ubah skala fitur menjadi (0-1)\n",
        "from sklearn.preprocessing import MinMaxScaler\n",
        "\n",
        "scaler = MinMaxScaler(feature_range=(0, 1))\n",
        "rescaled_X_test = scaler.fit_transform(X_test)\n",
        "print(\"feature vector normalized...\")"
      ],
      "metadata": {
        "colab": {
          "base_uri": "https://localhost:8080/"
        },
        "id": "6G0cAkCXmhTG",
        "outputId": "69482b42-e964-4409-e5fb-763a28c078e8"
      },
      "execution_count": 56,
      "outputs": [
        {
          "output_type": "stream",
          "name": "stdout",
          "text": [
            "training label encoded\n",
            "feature vector normalized...\n"
          ]
        }
      ]
    },
    {
      "cell_type": "code",
      "source": [
        "rescaled_X_test[0]"
      ],
      "metadata": {
        "id": "AP1IiAZJ04SU"
      },
      "execution_count": null,
      "outputs": []
    },
    {
      "cell_type": "code",
      "source": [
        "y_predict[0]"
      ],
      "metadata": {
        "colab": {
          "base_uri": "https://localhost:8080/"
        },
        "id": "fC0hfqAW1C9H",
        "outputId": "ae26d7cf-7dda-47d1-adef-8a335b934d9d"
      },
      "execution_count": 131,
      "outputs": [
        {
          "output_type": "execute_result",
          "data": {
            "text/plain": [
              "3"
            ]
          },
          "metadata": {},
          "execution_count": 131
        }
      ]
    },
    {
      "cell_type": "code",
      "source": [
        "y_predict = model.predict(rescaled_X_test)\n",
        "ConfusionMatrixDisplay.from_predictions(encoded_y_test, y_predict)"
      ],
      "metadata": {
        "colab": {
          "base_uri": "https://localhost:8080/",
          "height": 296
        },
        "id": "53FX7sILiD6w",
        "outputId": "26fc49ed-562c-4618-cde5-426cc6dfaeee"
      },
      "execution_count": 121,
      "outputs": [
        {
          "output_type": "execute_result",
          "data": {
            "text/plain": [
              "<sklearn.metrics._plot.confusion_matrix.ConfusionMatrixDisplay at 0x7f95ed456fd0>"
            ]
          },
          "metadata": {},
          "execution_count": 121
        },
        {
          "output_type": "display_data",
          "data": {
            "text/plain": [
              "<Figure size 432x288 with 2 Axes>"
            ],
            "image/png": "[encoded data removed]"
          },
          "metadata": {
            "needs_background": "light"
          }
        }
      ]
    },
    {
      "cell_type": "code",
      "source": [
        "print(classification_report(encoded_y_test, y_predict))"
      ],
      "metadata": {
        "colab": {
          "base_uri": "https://localhost:8080/"
        },
        "id": "iAQtT-DhobLR",
        "outputId": "e6a2ee0b-4be2-4892-c1ab-97a35479c626"
      },
      "execution_count": 122,
      "outputs": [
        {
          "output_type": "stream",
          "name": "stdout",
          "text": [
            "              precision    recall  f1-score   support\n",
            "\n",
            "           0       1.00      0.65      0.79        20\n",
            "           1       0.94      0.80      0.86        20\n",
            "           2       0.86      0.95      0.90        20\n",
            "           3       0.68      0.95      0.79        20\n",
            "\n",
            "    accuracy                           0.84        80\n",
            "   macro avg       0.87      0.84      0.84        80\n",
            "weighted avg       0.87      0.84      0.84        80\n",
            "\n"
          ]
        }
      ]
    },
    {
      "cell_type": "markdown",
      "source": [
        "## Save Model"
      ],
      "metadata": {
        "id": "dEOGhHMtpkDY"
      }
    },
    {
      "cell_type": "code",
      "source": [
        "filename = 'rfc_model.sav'\n",
        "joblib.dump(model, f'/content/drive/MyDrive/banana-leaf/output/{filename}')"
      ],
      "metadata": {
        "colab": {
          "base_uri": "https://localhost:8080/"
        },
        "id": "D14hvUHEpWE5",
        "outputId": "2f7f7ed2-a0dc-4625-d1bc-645a1503d573"
      },
      "execution_count": 123,
      "outputs": [
        {
          "output_type": "execute_result",
          "data": {
            "text/plain": [
              "['/content/drive/MyDrive/banana-leaf/output/rfc_model.sav']"
            ]
          },
          "metadata": {},
          "execution_count": 123
        }
      ]
    },
    {
      "cell_type": "markdown",
      "source": [
        "# Prediction"
      ],
      "metadata": {
        "id": "Q405FlKVowun"
      }
    },
    {
      "cell_type": "markdown",
      "source": [
        "## Setup Environment"
      ],
      "metadata": {
        "id": "8V96oHeKpSMW"
      }
    },
    {
      "cell_type": "code",
      "source": [
        "import joblib\n",
        "import cv2\n",
        "import numpy as np"
      ],
      "metadata": {
        "id": "ZLAbDYjzo2uv"
      },
      "execution_count": 73,
      "outputs": []
    },
    {
      "cell_type": "code",
      "source": [
        "# ubah ke output/rfc_model.sav\n",
        "PATH_MODEL = '/content/drive/MyDrive/banana-leaf/output/rfc_model.sav'\n",
        "FIXED_SIZE = (500, 500)\n",
        "TEST_PATH = 'dataset/test'"
      ],
      "metadata": {
        "id": "LLKE9xXeqIIB"
      },
      "execution_count": 124,
      "outputs": []
    },
    {
      "cell_type": "code",
      "source": [
        "loaded_model = joblib.load(PATH_MODEL)"
      ],
      "metadata": {
        "colab": {
          "base_uri": "https://localhost:8080/"
        },
        "id": "PgxqfYGpvNHq",
        "outputId": "2375aa0c-0a8e-489b-9286-82deff50cb37"
      },
      "execution_count": 126,
      "outputs": [
        {
          "output_type": "execute_result",
          "data": {
            "text/plain": [
              "{'bootstrap': True,\n",
              " 'ccp_alpha': 0.0,\n",
              " 'class_weight': None,\n",
              " 'criterion': 'gini',\n",
              " 'max_depth': None,\n",
              " 'max_features': 'auto',\n",
              " 'max_leaf_nodes': None,\n",
              " 'max_samples': None,\n",
              " 'min_impurity_decrease': 0.0,\n",
              " 'min_samples_leaf': 1,\n",
              " 'min_samples_split': 2,\n",
              " 'min_weight_fraction_leaf': 0.0,\n",
              " 'n_estimators': 100,\n",
              " 'n_jobs': None,\n",
              " 'oob_score': False,\n",
              " 'random_state': None,\n",
              " 'verbose': 0,\n",
              " 'warm_start': False}"
            ]
          },
          "metadata": {},
          "execution_count": 126
        }
      ]
    },
    {
      "cell_type": "code",
      "source": [
        "def preprocess(filename):\n",
        "    label_name = filename.split('/')[-2] # ubah '/' jadi '\\'\n",
        "    image = cv2.imread(filename)\n",
        "    image = cv2.resize(image, FIXED_SIZE)\n",
        "\n",
        "    # TODO: tampilkan\n",
        "    # jalankan fungsi preprocessing satu per satu\n",
        "    bgr_image = rgb_bgr(image)\n",
        "    hsv_image = bgr_hsv(bgr_image)\n",
        "    segmented_img = img_segmentation(bgr_image,hsv_image)\n",
        "\n",
        "    # jalankan fungsi feature descriptor\n",
        "    fv_hu_moments = fd_hu_moments(segmented_img)\n",
        "    fv_haralick = fd_haralick(segmented_img)\n",
        "    fv_histogram = fd_histogram(segmented_img)\n",
        "        \n",
        "    # gabungin\n",
        "    global_feature = np.hstack([fv_histogram, fv_haralick, fv_hu_moments])\n",
        "    \n",
        "    return global_feature.reshape(1,-1), label_name\n"
      ],
      "metadata": {
        "id": "Dpin2ySxrkWK"
      },
      "execution_count": 137,
      "outputs": []
    },
    {
      "cell_type": "code",
      "source": [
        "PATH = '/content/dataset/test/cordana/1615455263914.jpg'\n",
        "image_feature, label_name = preprocess(PATH)\n",
        "\n",
        "predicted_label = loaded_model.predict(image_feature)"
      ],
      "metadata": {
        "id": "ZyUbuy-yvQS5"
      },
      "execution_count": 140,
      "outputs": []
    },
    {
      "cell_type": "code",
      "source": [
        "if predicted_label == 0:\n",
        "    predicted_label_name = 'cordana'\n",
        "elif predicted_label == 1:\n",
        "    predicted_label_name = 'healthy'\n",
        "elif predicted_label == 2:\n",
        "    predicted_label_name = 'pestaliopsis'\n",
        "else:\n",
        "    predicted_label_name = 'sigatoka'"
      ],
      "metadata": {
        "id": "oknDPZjTxTFt"
      },
      "execution_count": 142,
      "outputs": []
    },
    {
      "cell_type": "code",
      "source": [
        "print(f'Label asli: {label_name}')\n",
        "print(f'Label diprediksi: {predicted_label_name}')"
      ],
      "metadata": {
        "colab": {
          "base_uri": "https://localhost:8080/"
        },
        "id": "LlGAbcPt2qiI",
        "outputId": "15539431-df91-4e3d-ce91-846746b49ed2"
      },
      "execution_count": 144,
      "outputs": [
        {
          "output_type": "stream",
          "name": "stdout",
          "text": [
            "Label asli: cordana\n",
            "Label diprediksi: cordana\n"
          ]
        }
      ]
    },
    {
      "cell_type": "markdown",
      "source": [
        "di py nya nanti tampilkan gambar foto yang di load, label aslinya, dan label prediksi nya"
      ],
      "metadata": {
        "id": "sPQ1OWcg3Fw7"
      }
    },
    {
      "cell_type": "code",
      "source": [
        "image = cv2.imread(PATH)\n",
        "# cv2.putText(image,\n",
        "#             f'Label asli: {label_name})\n",
        "cv2.imshow('image', image)"
      ],
      "metadata": {
        "id": "tQVifWHo4QQG"
      },
      "execution_count": null,
      "outputs": []
    }
  ]
}