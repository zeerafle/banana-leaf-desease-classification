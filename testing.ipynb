{
 "cells": [
  {
   "cell_type": "code",
   "execution_count": 3,
   "metadata": {},
   "outputs": [],
   "source": [
    "import splitfolders\n",
    "import os"
   ]
  },
  {
   "cell_type": "code",
   "execution_count": 4,
   "metadata": {},
   "outputs": [],
   "source": [
    "splitfolders.ratio('data', output=\"split-output\", seed=42, ratio=(.8, .2), group_prefix=None, move=True)"
   ]
  },
  {
   "cell_type": "code",
   "execution_count": 5,
   "metadata": {},
   "outputs": [
    {
     "name": "stdout",
     "output_type": "stream",
     "text": [
      "train\n",
      "379\n",
      "211\n",
      "81\n",
      "test\n",
      "95\n",
      "53\n",
      "21\n"
     ]
    }
   ],
   "source": [
    "print('train')\n",
    "print(len(os.listdir(r'split-output\\train\\RESIZED BLACK SIGATOKA')))\n",
    "print(len(os.listdir(r'split-output\\train\\RESIZED YELLOW SIGATOKA')))\n",
    "print(len(os.listdir(r'split-output\\train\\RESIZED PANAMA DISEASE')))\n",
    "print('test')\n",
    "print(len(os.listdir(r'split-output\\val\\RESIZED BLACK SIGATOKA')))\n",
    "print(len(os.listdir(r'split-output\\val\\RESIZED YELLOW SIGATOKA')))\n",
    "print(len(os.listdir(r'split-output\\val\\RESIZED PANAMA DISEASE')))"
   ]
  },
  {
   "cell_type": "code",
   "execution_count": null,
   "metadata": {},
   "outputs": [],
   "source": []
  }
 ],
 "metadata": {
  "kernelspec": {
   "display_name": ".venv",
   "language": "python",
   "name": "python3"
  },
  "language_info": {
   "codemirror_mode": {
    "name": "ipython",
    "version": 3
   },
   "file_extension": ".py",
   "mimetype": "text/x-python",
   "name": "python",
   "nbconvert_exporter": "python",
   "pygments_lexer": "ipython3",
   "version": "3.9.13"
  },
  "orig_nbformat": 4
 },
 "nbformat": 4,
 "nbformat_minor": 2
}
